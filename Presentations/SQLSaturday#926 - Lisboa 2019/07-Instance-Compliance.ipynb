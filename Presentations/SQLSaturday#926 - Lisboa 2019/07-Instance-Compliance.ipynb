{
    "metadata": {
        "kernelspec": {
            "name": "powershell",
            "display_name": "PowerShell"
        },
        "language_info": {
            "name": "powershell",
            "codemirror_mode": "shell",
            "mimetype": "text/x-sh",
            "file_extension": ".ps1"
        }
    },
    "nbformat_minor": 2,
    "nbformat": 4,
    "cells": [
        {
            "cell_type": "markdown",
            "source": [
                "<pre>\r\n",
                "██████╗ ██████╗  █████╗ ████████╗ ██████╗  ██████╗ ██╗     ███████╗      \r\n",
                "██╔══██╗██╔══██╗██╔══██╗╚══██╔══╝██╔═══██╗██╔═══██╗██║     ██╔════╝      \r\n",
                "██║  ██║██████╔╝███████║   ██║   ██║   ██║██║   ██║██║     ███████╗      \r\n",
                "██║  ██║██╔══██╗██╔══██║   ██║   ██║   ██║██║   ██║██║     ╚════██║      \r\n",
                "██████╔╝██████╔╝██║  ██║   ██║   ╚██████╔╝╚██████╔╝███████╗███████║      \r\n",
                "╚═════╝ ╚═════╝ ╚═╝  ╚═╝   ╚═╝    ╚═════╝  ╚═════╝ ╚══════╝╚══════╝      \r\n",
                "                                                                         \r\n",
                "██████╗ ███████╗ ██████╗██╗██████╗ ███████╗     ██╗ ██╗  ██████╗ ███████╗\r\n",
                "██╔══██╗██╔════╝██╔════╝██║██╔══██╗██╔════╝    ████████╗██╔═████╗╚════██║\r\n",
                "██████╔╝█████╗  ██║     ██║██████╔╝█████╗      ╚██╔═██╔╝██║██╔██║    ██╔╝\r\n",
                "██╔══██╗██╔══╝  ██║     ██║██╔═══╝ ██╔══╝      ████████╗████╔╝██║   ██╔╝ \r\n",
                "██║  ██║███████╗╚██████╗██║██║     ███████╗    ╚██╔═██╔╝╚██████╔╝   ██║  \r\n",
                "╚═╝  ╚═╝╚══════╝ ╚═════╝╚═╝╚═╝     ╚══════╝     ╚═╝ ╚═╝  ╚═════╝    ╚═╝  \r\n",
                "</pre>\r\n",
                "# Recipe #07 - Let's cook!\r\n",
                "## Another desert: \r\n",
                "### - Patching and instance version compliance\r\n",
                "<hr>"
            ],
            "metadata": {
                "azdata_cell_guid": "903ab5ed-e775-4149-8041-0fc28a542608"
            }
        },
        {
            "cell_type": "markdown",
            "source": [
                "Set variables"
            ],
            "metadata": {
                "azdata_cell_guid": "f6947be1-a429-4a6d-b3d9-52a2be0010af"
            }
        },
        {
            "cell_type": "code",
            "source": [
                "$dbatools1 = \"localhost,1433\"\r\n",
                "$dbatools2 = \"localhost,14333\"\r\n",
                "$secureString = ConvertTo-SecureString \"dbatools.IO\" -AsPlainText -Force\r\n",
                "$cred = New-Object -TypeName System.Management.Automation.PSCredential -ArgumentList \"sqladmin\", $secureString\r\n",
                "$database = \"dbatools\""
            ],
            "metadata": {
                "azdata_cell_guid": "73292207-ee57-4ad3-b380-0d7ccfb3c9e7"
            },
            "outputs": [],
            "execution_count": 1
        },
        {
            "cell_type": "markdown",
            "source": [
                "Check if instance is on lastest available build"
            ],
            "metadata": {
                "azdata_cell_guid": "bf522f38-7e02-4cd8-938b-7b17a8869778"
            }
        },
        {
            "cell_type": "code",
            "source": [
                "Test-DbaBuild -SqlInstance $dbatools1 -SqlCredential $cred -Latest"
            ],
            "metadata": {
                "azdata_cell_guid": "b28074df-dbdf-487f-997b-5127ec598604"
            },
            "outputs": [],
            "execution_count": 3
        },
        {
            "cell_type": "markdown",
            "source": [
                "### Test if we aren't more than `1CU` behind"
            ],
            "metadata": {
                "azdata_cell_guid": "fdd33afc-814d-4339-b4cf-72ec2c889d3c"
            }
        },
        {
            "cell_type": "code",
            "source": [
                "Test-DbaBuild -SqlInstance $dbatools1 -SqlCredential $cred -MaxBehind 1CU"
            ],
            "metadata": {
                "azdata_cell_guid": "93041a8e-f2db-4d88-98ba-73c922ca7366"
            },
            "outputs": [],
            "execution_count": 11
        },
        {
            "cell_type": "markdown",
            "source": [
                "Example using the `Meltdown/Spectre` versions"
            ],
            "metadata": {
                "azdata_cell_guid": "dd9e6a2c-84f4-4e6d-8f8f-5134b8d53f1e"
            }
        },
        {
            "cell_type": "code",
            "source": [
                "#Meltdown/Spectre check:\r\n",
                "$mapping = @{\r\n",
                "    '2008'   = '10.0.6556'\r\n",
                "    '2008R2' = '10.50.6560'\r\n",
                "    '2012'   = '11.0.7462'\r\n",
                "    '2014'   = '12.0.5571'\r\n",
                "    '2016'   = '13.0.4466'\r\n",
                "    '2017'   = '14.0.3015'\r\n",
                "}\r\n",
                "foreach($inst in @($dbatools1, $dbatools2)) {\r\n",
                "    $ref = Get-DbaBuildReference -SqlInstance $inst -SqlCredential $cred\r\n",
                "    Test-DbaBuild -SqlInstance $inst -SqlCredential $cred -MinimumBuild $mapping[$ref.NameLevel]\r\n",
                "}"
            ],
            "metadata": {
                "azdata_cell_guid": "acdd2ec9-06c9-411b-9956-dad56d5bef45"
            },
            "outputs": [],
            "execution_count": 10
        },
        {
            "cell_type": "markdown",
            "source": [
                "### Export result to excel. It uses ImportExcel PowerShell Module from Doug Finke"
            ],
            "metadata": {
                "azdata_cell_guid": "1adadc6d-635c-4e0e-a3c1-75c36ff32813"
            }
        },
        {
            "cell_type": "code",
            "source": [
                "# Excel magic\r\n",
                "$excelFilePath = \"D:\\Presentations\\SQLSaturday#926 - Lisboa 2019\\Test-Compliance\\Compliance_$((Get-Date).ToFileTime()).xlsx\"\r\n",
                "$results = Test-DbaBuild -SqlInstance $dbatools1,$dbatools2 -SqlCredential $cred -Latest\r\n",
                "$results | Export-Excel -Path $excelFilePath -TableName \"data\" -TableStyle Medium10 -Show"
            ],
            "metadata": {
                "azdata_cell_guid": "66bf9277-588f-4c7f-bff2-8fe1a076e228"
            },
            "outputs": [],
            "execution_count": 2
        }
    ]
}