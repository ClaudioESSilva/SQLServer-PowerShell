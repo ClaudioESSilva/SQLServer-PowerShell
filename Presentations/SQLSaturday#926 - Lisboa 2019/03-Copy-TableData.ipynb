{
    "metadata": {
        "kernelspec": {
            "name": "powershell",
            "display_name": "PowerShell"
        },
        "language_info": {
            "name": "powershell",
            "codemirror_mode": "shell",
            "mimetype": "text/x-sh",
            "file_extension": ".ps1"
        }
    },
    "nbformat_minor": 2,
    "nbformat": 4,
    "cells": [
        {
            "cell_type": "markdown",
            "source": [
                "<pre>\n",
                "\n",
                "██████╗ ██████╗  █████╗ ████████╗ ██████╗  ██████╗ ██╗     ███████╗      \n",
                "██╔══██╗██╔══██╗██╔══██╗╚══██╔══╝██╔═══██╗██╔═══██╗██║     ██╔════╝      \n",
                "██║  ██║██████╔╝███████║   ██║   ██║   ██║██║   ██║██║     ███████╗      \n",
                "██║  ██║██╔══██╗██╔══██║   ██║   ██║   ██║██║   ██║██║     ╚════██║      \n",
                "██████╔╝██████╔╝██║  ██║   ██║   ╚██████╔╝╚██████╔╝███████╗███████║      \n",
                "╚═════╝ ╚═════╝ ╚═╝  ╚═╝   ╚═╝    ╚═════╝  ╚═════╝ ╚══════╝╚══════╝      \n",
                "                                                                         \n",
                "██████╗ ███████╗ ██████╗██╗██████╗ ███████╗     ██╗ ██╗  ██████╗ ██████╗ \n",
                "██╔══██╗██╔════╝██╔════╝██║██╔══██╗██╔════╝    ████████╗██╔═████╗╚════██╗\n",
                "██████╔╝█████╗  ██║     ██║██████╔╝█████╗      ╚██╔═██╔╝██║██╔██║ █████╔╝\n",
                "██╔══██╗██╔══╝  ██║     ██║██╔═══╝ ██╔══╝      ████████╗████╔╝██║ ╚═══██╗\n",
                "██║  ██║███████╗╚██████╗██║██║     ███████╗    ╚██╔═██╔╝╚██████╔╝██████╔╝\n",
                "╚═╝  ╚═╝╚══════╝ ╚═════╝╚═╝╚═╝     ╚══════╝     ╚═╝ ╚═╝  ╚═════╝ ╚═════╝ \n",
                "                                                                         \n",
                "</pre>\n",
                "# Recipe #03 - Let's cook!\n",
                "## Main course: \n",
                "### - Copy data between tables\n",
                "> Under the hood it uses `SQLBulkCopy` which is one of the most efficient ways to copy batchs of data between tables\n",
                "<hr>"
            ],
            "metadata": {
                "azdata_cell_guid": "6066a42f-a32e-404d-b4c2-ded7e6557985"
            }
        },
        {
            "cell_type": "markdown",
            "source": [
                "### Set variables"
            ],
            "metadata": {
                "azdata_cell_guid": "52acd561-24a1-486f-b121-f8ff4781790c"
            }
        },
        {
            "cell_type": "code",
            "source": [
                "$dbatools1 = \"localhost,1433\"\r\n",
                "$dbatools2 = \"localhost,14333\"\r\n",
                "$secureString = ConvertTo-SecureString \"dbatools.IO\" -AsPlainText -Force\r\n",
                "$cred = New-Object -TypeName System.Management.Automation.PSCredential -ArgumentList \"sqladmin\", $secureString\r\n",
                "\r\n",
                "$sourceDB = \"Northwind\"\r\n",
                "$destinationDB = \"EmptyNorthwind\"\r\n",
                "$sourceTable = \"[dbo].[Order Details]\""
            ],
            "metadata": {
                "azdata_cell_guid": "3ca56988-8ec0-4c48-9fb4-0701f33bbacc",
                "tags": []
            },
            "outputs": [],
            "execution_count": 1
        },
        {
            "cell_type": "markdown",
            "source": [
                "### Create empty database on destination instance"
            ],
            "metadata": {
                "azdata_cell_guid": "aeaecd95-7ea8-4a34-961a-935b3ce702a4"
            }
        },
        {
            "cell_type": "code",
            "source": [
                "New-DbaDatabase -SqlInstance $dbatools2 -SqlCredential $cred -Name $destinationDB"
            ],
            "metadata": {
                "azdata_cell_guid": "79609297-78a2-4bc5-9af4-012db64f84c0"
            },
            "outputs": [],
            "execution_count": 2
        },
        {
            "cell_type": "markdown",
            "source": [
                "### Copy data\r\n",
                "\r\n",
                "> Note: Table do not exists so it will be created. However without PK, FK, UQ, (non)Clustered indexes..etc.  \r\n",
                "If you need to keep all the objects take a look at the [“UPS…I HAVE DELETED SOME DATA. CAN YOU PUT IT BACK?” – DBATOOLS FOR THE RESCUE](https://claudioessilva.eu/2019/05/17/ups-i-have-deleted-some-data-can-you-put-it-back-dbatools-for-the-rescue/) blog post to understand how you can crate the object with same structure/properties before copying the data."
            ],
            "metadata": {
                "azdata_cell_guid": "68ae28b5-ca53-475c-8012-8776dc6e5907"
            }
        },
        {
            "cell_type": "code",
            "source": [
                "# Copy all data within dbo.Categories to other instance\r\n",
                "$copySplat = @{\r\n",
                "    SqlInstance = $dbatools1\r\n",
                "    SqlCredential = $cred\r\n",
                "    Destination = $dbatools2\r\n",
                "    DestinationSqlCredential = $cred\r\n",
                "    Database = $sourceDB\r\n",
                "    DestinationDatabase = $destinationDB\r\n",
                "    Table = $sourceTable\r\n",
                "    AutoCreateTable = $true \r\n",
                "    BatchSize = 1000\r\n",
                "}\r\n",
                "Copy-DbaDbTableData @copySplat"
            ],
            "metadata": {
                "azdata_cell_guid": "082e1c93-b233-42f6-92d1-fda17f4b252c"
            },
            "outputs": [],
            "execution_count": 3
        },
        {
            "cell_type": "markdown",
            "source": [
                "### Check table content on destination"
            ],
            "metadata": {
                "azdata_cell_guid": "cfdee541-4e7c-40ca-9a00-63a4c8dacf66"
            }
        },
        {
            "cell_type": "code",
            "source": [
                "Invoke-DbaQuery -SqlInstance $dbatools2 -SqlCredential $cred -Database $destinationDB -Query \"SELECT TOP 10 * FROM $sourceTable\" | Format-Table"
            ],
            "metadata": {
                "azdata_cell_guid": "ecf4b56a-fa41-42b9-b459-2701e5499738"
            },
            "outputs": [],
            "execution_count": 4
        },
        {
            "cell_type": "markdown",
            "source": [
                "<hr>\r\n",
                "\r\n",
                "# Another example\r\n",
                "## Copy data based on a query"
            ],
            "metadata": {
                "azdata_cell_guid": "7daa73a7-1ac4-4277-bb81-9340e5c46c8d"
            }
        },
        {
            "cell_type": "code",
            "source": [
                "# Copy specific data (see query parameter) from [dbo].[Order Details] to [dbo].[CopyOf_Order Details]\r\n",
                "$copySplat = @{\r\n",
                "    SqlInstance = $dbatools1\r\n",
                "    SqlCredential = $cred\r\n",
                "    Destination = $dbatools1\r\n",
                "    DestinationSqlCredential = $cred\r\n",
                "    Database = $sourceDB\r\n",
                "    DestinationDatabase = $sourceDB\r\n",
                "    Table = $sourceTable\r\n",
                "    DestinationTable = \"[dbo].[CopyOf_Order Details]\"\r\n",
                "    AutoCreateTable = $true \r\n",
                "    BatchSize = 1000\r\n",
                "    Query = \"SELECT * FROM $sourceDB.$sourceTable WHERE Quantity > 70 \"\r\n",
                "}\r\n",
                "Copy-DbaDbTableData @copySplat"
            ],
            "metadata": {
                "azdata_cell_guid": "c81d8652-caad-4532-9b8b-4e2a4ac8be24"
            },
            "outputs": [],
            "execution_count": 5
        },
        {
            "cell_type": "markdown",
            "source": [
                "Confirm that data is there"
            ],
            "metadata": {
                "azdata_cell_guid": "d67e76e5-0ec2-4ad8-8f85-7deaaf6dc30a"
            }
        },
        {
            "cell_type": "code",
            "source": [
                "Invoke-DbaQuery -SqlInstance $dbatools1 -SqlCredential $cred -Database $sourceDB -Query \"SELECT * FROM [dbo].[CopyOf_Order Details]\" | Format-Table"
            ],
            "metadata": {
                "azdata_cell_guid": "85086324-3f6e-4c36-ab91-e737db1fdfb5"
            },
            "outputs": [],
            "execution_count": 6
        }
    ]
}