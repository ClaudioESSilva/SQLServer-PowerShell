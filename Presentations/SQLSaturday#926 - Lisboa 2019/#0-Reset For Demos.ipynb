{
    "metadata": {
        "kernelspec": {
            "name": "powershell",
            "display_name": "PowerShell"
        },
        "language_info": {
            "name": "powershell",
            "codemirror_mode": "shell",
            "mimetype": "text/x-sh",
            "file_extension": ".ps1"
        }
    },
    "nbformat_minor": 2,
    "nbformat": 4,
    "cells": [
        {
            "cell_type": "markdown",
            "source": [
                "## Check if we have dbatools docker images"
            ],
            "metadata": {
                "azdata_cell_guid": "18765a75-af15-4b2d-9bd2-59b21ff5a91a"
            }
        },
        {
            "cell_type": "code",
            "source": [
                "docker images \"dbatools/*\""
            ],
            "metadata": {
                "azdata_cell_guid": "07aadc8e-fd3a-42d8-9496-71be2d7e67c6"
            },
            "outputs": [],
            "execution_count": 1
        },
        {
            "cell_type": "markdown",
            "source": [
                "## Verify if we have containers setup"
            ],
            "metadata": {
                "azdata_cell_guid": "5b8ea9ef-8c49-48a7-80a4-61e6c45842c2"
            }
        },
        {
            "cell_type": "code",
            "source": [
                "docker ps -a"
            ],
            "metadata": {
                "azdata_cell_guid": "4adf5ca8-8906-4056-bb8a-78d6151bd963"
            },
            "outputs": [],
            "execution_count": 2
        },
        {
            "cell_type": "markdown",
            "source": [
                "### If containers are not up and running, start them"
            ],
            "metadata": {
                "azdata_cell_guid": "394165c7-d2a7-4ffd-8e44-1038f7bd219a"
            }
        },
        {
            "cell_type": "code",
            "source": [
                "# start container dockersql1\r\n",
                "docker start dockersql1\r\n",
                "\r\n",
                "# start container dockersql2 \r\n",
                "docker start dockersql2"
            ],
            "metadata": {
                "azdata_cell_guid": "ece4c5c8-4130-46c4-81c1-664d5b1728f8"
            },
            "outputs": [],
            "execution_count": 3
        },
        {
            "cell_type": "markdown",
            "source": [
                "## Set variables values"
            ],
            "metadata": {
                "azdata_cell_guid": "ae67bc5a-a96b-4903-8406-8fb2d7d6e46c"
            }
        },
        {
            "cell_type": "code",
            "source": [
                "$dbatools1 = \"localhost,1433\"\r\n",
                "$dbatools2 = \"localhost,14333\"\r\n",
                "$database = \"Pubs\"\r\n",
                "$AG = \"test-ag\"\r\n",
                "$secureString = ConvertTo-SecureString \"dbatools.IO\" -AsPlainText -Force\r\n",
                "$cred = New-Object -TypeName System.Management.Automation.PSCredential -ArgumentList \"sqladmin\", $secureString"
            ],
            "metadata": {
                "azdata_cell_guid": "60df9441-10c6-4b3d-ae9b-acb44e6908b5"
            },
            "outputs": [],
            "execution_count": 1
        },
        {
            "cell_type": "markdown",
            "source": [
                "## Remove 'test-ag' from AG"
            ],
            "metadata": {
                "azdata_cell_guid": "3cbc9d43-6ff1-43c0-8412-6ba06de6d5a1"
            }
        },
        {
            "cell_type": "code",
            "source": [
                "# Remove Database from AG\r\n",
                "Remove-DbaAgDatabase -SqlInstance $dbatools1 -SqlCredential $cred -AvailabilityGroup $AG -Database $database -Confirm:$false\r\n",
                "\r\n",
                "# Remove Availability group\r\n",
                "Remove-DbaAvailabilityGroup -SqlInstance $dbatools1, $dbatools2 -SqlCredential $cred -AvailabilityGroup $AG -Confirm:$false\r\n",
                "\r\n",
                "# Remove Database from secondary instance\r\n",
                "Remove-DbaDatabase -SqlInstance $dbatools2 -SqlCredential $cred -Database $database -Confirm:$false"
            ],
            "metadata": {
                "azdata_cell_guid": "445407cb-435a-48a3-bd5d-948a546cfbfe"
            },
            "outputs": [],
            "execution_count": 4
        },
        {
            "cell_type": "markdown",
            "source": [
                "# Grant permissions"
            ],
            "metadata": {
                "azdata_cell_guid": "53978a7c-7742-470f-9e05-7dea86d88a45"
            }
        },
        {
            "cell_type": "code",
            "source": [
                "$filePermissions = \"D:\\Presentations\\SQLSaturday#926 - Lisboa 2019\\Reset\\02_GrantPermissions.sql\"\r\n",
                "\r\n",
                "$scriptWithoutGO = Get-Content $filePermissions -Raw | ForEach-Object { \r\n",
                "    $_ -replace '\\bGO\\b',' '\r\n",
                "}\r\n",
                "\r\n",
                "Invoke-DbaQuery -SqlInstance $dbatools1 -SqlCredential $cred -Query $scriptWithoutGO -Verbose"
            ],
            "metadata": {
                "azdata_cell_guid": "814e66af-d935-4523-88b4-351821ba7112",
                "tags": []
            },
            "outputs": [],
            "execution_count": 18
        },
        {
            "cell_type": "markdown",
            "source": [
                "### Check Permissions"
            ],
            "metadata": {
                "azdata_cell_guid": "8adc8f8d-448c-49ec-acda-402cf8dd30f2"
            }
        },
        {
            "cell_type": "code",
            "source": [
                "Get-DbaUserPermission -SqlInstance $dbatools1 -SqlCredential $cred"
            ],
            "metadata": {
                "azdata_cell_guid": "e8d0d5e2-f2eb-4db3-b599-568d26664706"
            },
            "outputs": [],
            "execution_count": 19
        },
        {
            "cell_type": "markdown",
            "source": [
                "### Remove files from directories"
            ],
            "metadata": {
                "azdata_cell_guid": "e4c3a642-34b0-4dff-bbde-c2b1b7ee0c4c"
            }
        },
        {
            "cell_type": "code",
            "source": [
                "Remove-Item -Path \"D:\\Presentations\\SQLSaturday#926 - Lisboa 2019\\Replicate Permissions\\*\" -Force"
            ],
            "metadata": {
                "azdata_cell_guid": "d2250eb7-110c-4958-9810-d6483565a35d"
            },
            "outputs": [],
            "execution_count": 1
        },
        {
            "cell_type": "markdown",
            "source": [
                "<hr>\r\n",
                "\r\n",
                "## Reset for copy data demo\r\n",
                "\r\n",
                "Remove `EmptyNorthwind` database from `localhost,14333` instance"
            ],
            "metadata": {
                "azdata_cell_guid": "94e355d2-ec3f-4a41-879b-7ed467e1bc96"
            }
        },
        {
            "cell_type": "code",
            "source": [
                "Remove-DbaDatabase -SqlInstance $dbatools2 -SqlCredential $cred -Database EmptyNorthwind -Confirm:$false"
            ],
            "metadata": {
                "azdata_cell_guid": "39f23106-db27-4ba3-a57a-9beb197c8243"
            },
            "outputs": [],
            "execution_count": 4
        },
        {
            "cell_type": "markdown",
            "source": [
                "Drop table `[dbo].[CopyOf_Order Details]`"
            ],
            "metadata": {
                "azdata_cell_guid": "f7932ee0-b1d5-4088-af9c-8c84683cdcee"
            }
        },
        {
            "cell_type": "code",
            "source": [
                "Invoke-DbaQuery -SqlInstance $dbatools1 -SqlCredential $cred -Database Northwind -Query \"DROP TABLE [dbo].[CopyOf_Order Details]\""
            ],
            "metadata": {
                "azdata_cell_guid": "efd250c8-1ba6-47d4-b3ef-bb596083858f"
            },
            "outputs": [],
            "execution_count": 0
        }
    ]
}