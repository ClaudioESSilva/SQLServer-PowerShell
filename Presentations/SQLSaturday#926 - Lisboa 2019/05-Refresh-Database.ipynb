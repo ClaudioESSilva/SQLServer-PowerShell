{
    "metadata": {
        "kernelspec": {
            "name": "powershell",
            "display_name": "PowerShell"
        },
        "language_info": {
            "name": "powershell",
            "codemirror_mode": "shell",
            "mimetype": "text/x-sh",
            "file_extension": ".ps1"
        }
    },
    "nbformat_minor": 2,
    "nbformat": 4,
    "cells": [
        {
            "cell_type": "markdown",
            "source": [
                "<pre>\r\n",
                "██████╗ ██████╗  █████╗ ████████╗ ██████╗  ██████╗ ██╗     ███████╗      \r\n",
                "██╔══██╗██╔══██╗██╔══██╗╚══██╔══╝██╔═══██╗██╔═══██╗██║     ██╔════╝      \r\n",
                "██║  ██║██████╔╝███████║   ██║   ██║   ██║██║   ██║██║     ███████╗      \r\n",
                "██║  ██║██╔══██╗██╔══██║   ██║   ██║   ██║██║   ██║██║     ╚════██║      \r\n",
                "██████╔╝██████╔╝██║  ██║   ██║   ╚██████╔╝╚██████╔╝███████╗███████║      \r\n",
                "╚═════╝ ╚═════╝ ╚═╝  ╚═╝   ╚═╝    ╚═════╝  ╚═════╝ ╚══════╝╚══════╝      \r\n",
                "                                                                         \r\n",
                "██████╗ ███████╗ ██████╗██╗██████╗ ███████╗     ██╗ ██╗  ██████╗ ███████╗\r\n",
                "██╔══██╗██╔════╝██╔════╝██║██╔══██╗██╔════╝    ████████╗██╔═████╗██╔════╝\r\n",
                "██████╔╝█████╗  ██║     ██║██████╔╝█████╗      ╚██╔═██╔╝██║██╔██║███████╗\r\n",
                "██╔══██╗██╔══╝  ██║     ██║██╔═══╝ ██╔══╝      ████████╗████╔╝██║╚════██║\r\n",
                "██║  ██║███████╗╚██████╗██║██║     ███████╗    ╚██╔═██╔╝╚██████╔╝███████║\r\n",
                "╚═╝  ╚═╝╚══════╝ ╚═════╝╚═╝╚═╝     ╚══════╝     ╚═╝ ╚═╝  ╚═════╝ ╚══════╝\r\n",
                "</pre>\r\n",
                "# Recipe #05 - Let's cook!\r\n",
                "## Another main course: \r\n",
                "### - Database refresh\r\n",
                "1. Export users on destination\r\n",
                "2. Backup source database and restore it on destination\r\n",
                "3. Run data masking (If used) \r\n",
                "4. Run exported permissions on step 1\r\n",
                "5. Fix/remove orphan users  \r\n",
                "<hr>"
            ],
            "metadata": {
                "azdata_cell_guid": "e3e5c233-5e97-4d5c-b33d-890404d779b3"
            }
        },
        {
            "cell_type": "markdown",
            "source": [
                "Set variables"
            ],
            "metadata": {
                "azdata_cell_guid": "d20de8e0-4ee2-4038-89fd-ec49d25e5bac"
            }
        },
        {
            "cell_type": "code",
            "source": [
                "$dbatools1 = \"localhost,1433\"\r\n",
                "$dbatools2 = \"localhost,14333\"\r\n",
                "$secureString = ConvertTo-SecureString \"dbatools.IO\" -AsPlainText -Force\r\n",
                "$cred = New-Object -TypeName System.Management.Automation.PSCredential -ArgumentList \"sqladmin\", $secureString\r\n",
                "$databaseToRefresh = \"dbatools\""
            ],
            "metadata": {
                "azdata_cell_guid": "eccbf5f5-65da-4fcb-b69e-29b1dcd0b083"
            },
            "outputs": [],
            "execution_count": 1
        },
        {
            "cell_type": "markdown",
            "source": [
                "### 1 - Export users on destination"
            ],
            "metadata": {
                "azdata_cell_guid": "ed5c593c-a593-4bbf-ba66-078c30530b50"
            }
        },
        {
            "cell_type": "code",
            "source": [
                "# Export the user from the specific database and its permissions at database-roles and object level\n",
                "$usersExport = Export-DbaUser -SqlInstance $dbatools2 -SqlCredential $cred -Database $databaseToRefresh -Passthru\n",
                "\n",
                "$usersExport"
            ],
            "metadata": {
                "azdata_cell_guid": "151b11f8-086d-4b09-a20a-0e39c0e603f3"
            },
            "outputs": [],
            "execution_count": 2
        },
        {
            "cell_type": "markdown",
            "source": [
                "### 2 - Backup source database and restore it on destination"
            ],
            "metadata": {
                "azdata_cell_guid": "a90644b3-7105-4824-b3a7-aa0808f0787b"
            }
        },
        {
            "cell_type": "code",
            "source": [
                "# We will use a network share to backup database and restore from there\r\n",
                "#$backup = Backup-DbaDatabase -SqlInstance $dbatools1 -SqlCredential $cred -Database \"pubs\" -Path /tmp\r\n",
                "#Restore-DbaDatabase -SqlInstance $dbatools2 -SqlCredential $cred -Path $backup.BackupPath -DatabaseName \"dbatools\" -ReplaceDbNameInFile\r\n",
                "\r\n",
                "$copyDatabaseSplat = @{\r\n",
                "    Source = $dbatools1\r\n",
                "    SourceSqlCredential = $cred\r\n",
                "    Destination = $dbatools2\r\n",
                "    DestinationSqlCredential = $cred\r\n",
                "    Database = $databaseToRefresh\r\n",
                "    BackupRestore = $true\r\n",
                "    SharedPath = \"/tmp\"\r\n",
                "    WithReplace = $true\r\n",
                "}\r\n",
                "Copy-DbaDatabase @copyDatabaseSplat"
            ],
            "metadata": {
                "azdata_cell_guid": "1e319582-02bc-4360-814a-4552b8e8331a"
            },
            "outputs": [],
            "execution_count": 3
        },
        {
            "cell_type": "markdown",
            "source": [
                "### Verify the orphan users"
            ],
            "metadata": {
                "azdata_cell_guid": "9c79e5e9-5d3a-4597-92b5-2d2da184d20e"
            }
        },
        {
            "cell_type": "code",
            "source": [
                "# Verify orphan users\r\n",
                "Get-DbaDbOrphanUser -SqlInstance $dbatools2 -SqlCredential $cred -Database $databaseToRefresh"
            ],
            "metadata": {
                "azdata_cell_guid": "6cae3fca-95d8-462d-811c-179b8bedb473"
            },
            "outputs": [],
            "execution_count": 4
        },
        {
            "cell_type": "code",
            "source": [
                "# Repair Orphan users and remove the none existing\r\n",
                "Repair-DbaDbOrphanUser -SqlInstance $dbatools2 -SqlCredential $cred -Database $databaseToRefresh"
            ],
            "metadata": {
                "azdata_cell_guid": "23c67982-537a-42d3-8c87-f8991ed9705d"
            },
            "outputs": [],
            "execution_count": 5
        },
        {
            "cell_type": "code",
            "source": [
                "# Remove Orphan Users\r\n",
                "Remove-DbaDbOrphanUser -SqlInstance $dbatools2 -SqlCredential $cred -Database $databaseToRefresh -Verbose"
            ],
            "metadata": {
                "azdata_cell_guid": "7c415402-a76c-4967-a453-77df7e76a7d1"
            },
            "outputs": [],
            "execution_count": 6
        },
        {
            "cell_type": "markdown",
            "source": [
                "### Recreate users and grant permissions from the exported command"
            ],
            "metadata": {
                "azdata_cell_guid": "346dd2ea-500e-4af9-b884-8440595603d0"
            }
        },
        {
            "cell_type": "code",
            "source": [
                "# Run the exported script\n",
                "Invoke-DbaQuery -SqlInstance $dbatools2 -SqlCredential $cred -Database $databaseToRefresh -Query $($usersExport -replace '\\bGO\\b', ' ') -Verbose"
            ],
            "metadata": {
                "azdata_cell_guid": "ee2c45b8-1953-4337-be9c-9089098ab80a"
            },
            "outputs": [],
            "execution_count": 7
        },
        {
            "cell_type": "code",
            "source": [
                "# Confirm that we don't have orphan users\n",
                "Get-DbaDbOrphanUser -SqlInstance $dbatools2 -SqlCredential $cred -Database $databaseToRefresh -Verbose"
            ],
            "metadata": {
                "azdata_cell_guid": "45daea6a-a65d-4fde-a0e6-c2f7863bd689"
            },
            "outputs": [],
            "execution_count": 8
        },
        {
            "cell_type": "markdown",
            "source": [
                "### Connect as `dbatools_dev` and try to select some data"
            ],
            "metadata": {
                "azdata_cell_guid": "6bd76228-0ba0-41c8-ac90-f04a989e548b"
            }
        },
        {
            "cell_type": "code",
            "source": [
                "# Test connect as dbatools_dev and select table where it does not have permissions\n",
                "$cred_dev = New-Object -TypeName System.Management.Automation.PSCredential -ArgumentList \"dbatools_dev\", $secureString\n",
                "Invoke-DbaQuery -SqlInstance $dbatools2 -SqlCredential $cred_dev -Database $databaseToRefresh -Query \"SELECT SUSER_NAME()\""
            ],
            "metadata": {
                "azdata_cell_guid": "079c5bd5-0c14-449d-ba55-54b52875536e",
                "tags": []
            },
            "outputs": [],
            "execution_count": 10
        }
    ]
}