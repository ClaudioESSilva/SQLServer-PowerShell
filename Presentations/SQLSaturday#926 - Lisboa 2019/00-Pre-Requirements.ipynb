{
    "metadata": {
        "kernelspec": {
            "name": "powershell",
            "display_name": "PowerShell"
        },
        "language_info": {
            "name": "powershell",
            "codemirror_mode": "shell",
            "mimetype": "text/x-sh",
            "file_extension": ".ps1"
        }
    },
    "nbformat_minor": 2,
    "nbformat": 4,
    "cells": [
        {
            "cell_type": "markdown",
            "source": [
                "## Check if we have dbatools docker images"
            ],
            "metadata": {
                "azdata_cell_guid": "18765a75-af15-4b2d-9bd2-59b21ff5a91a"
            }
        },
        {
            "cell_type": "code",
            "source": [
                "docker images \"dbatools/*\""
            ],
            "metadata": {
                "azdata_cell_guid": "07aadc8e-fd3a-42d8-9496-71be2d7e67c6"
            },
            "outputs": [],
            "execution_count": 1
        },
        {
            "cell_type": "markdown",
            "source": [
                "## Verify if we have containers setup"
            ],
            "metadata": {
                "azdata_cell_guid": "5b8ea9ef-8c49-48a7-80a4-61e6c45842c2"
            }
        },
        {
            "cell_type": "code",
            "source": [
                "docker ps -a"
            ],
            "metadata": {
                "azdata_cell_guid": "4adf5ca8-8906-4056-bb8a-78d6151bd963"
            },
            "outputs": [],
            "execution_count": 2
        },
        {
            "cell_type": "markdown",
            "source": [
                "### If containers are not up and running, start them"
            ],
            "metadata": {
                "azdata_cell_guid": "394165c7-d2a7-4ffd-8e44-1038f7bd219a"
            }
        },
        {
            "cell_type": "code",
            "source": [
                "# start container dockersql1\r\n",
                "docker start dockersql1\r\n",
                "\r\n",
                "# start container dockersql2 \r\n",
                "docker start dockersql2"
            ],
            "metadata": {
                "azdata_cell_guid": "ece4c5c8-4130-46c4-81c1-664d5b1728f8"
            },
            "outputs": [],
            "execution_count": 1
        },
        {
            "cell_type": "markdown",
            "source": [
                "## Test connection to the instances\r\n",
                "Now that containers are up and running, we can use `Test-DbaConnection` to confirm they are accessible"
            ],
            "metadata": {
                "azdata_cell_guid": "3cbc9d43-6ff1-43c0-8412-6ba06de6d5a1"
            }
        },
        {
            "cell_type": "code",
            "source": [
                "$dbatools1 = \"localhost,1433\"\r\n",
                "$dbatools2 = \"localhost,14333\"\r\n",
                "$secureString = ConvertTo-SecureString \"dbatools.IO\" -AsPlainText -Force\r\n",
                "$cred = New-Object -TypeName System.Management.Automation.PSCredential -ArgumentList \"sqladmin\", $secureString\r\n",
                "\r\n",
                "# Confirm connection\r\n",
                "Test-DbaConnection -SqlInstance $dbatools1, $dbatools2 -SqlCredential $cred | Format-Table"
            ],
            "metadata": {
                "azdata_cell_guid": "445407cb-435a-48a3-bd5d-948a546cfbfe"
            },
            "outputs": [],
            "execution_count": 2
        },
        {
            "cell_type": "code",
            "source": [
                "# Confirm that you can connect to the instances and see the databases\r\n",
                "Get-DbaDatabase -SqlInstance $dbatools1,$dbatools2 -SqlCredential $cred | Format-Table"
            ],
            "metadata": {
                "azdata_cell_guid": "2e86120b-bb5c-488c-ba71-81c88e2a9790"
            },
            "outputs": [],
            "execution_count": 4
        }
    ]
}