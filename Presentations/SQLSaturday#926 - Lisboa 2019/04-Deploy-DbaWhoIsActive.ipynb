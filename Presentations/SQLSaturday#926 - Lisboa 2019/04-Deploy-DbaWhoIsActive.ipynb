{
    "metadata": {
        "kernelspec": {
            "name": "powershell",
            "display_name": "PowerShell"
        },
        "language_info": {
            "name": "powershell",
            "codemirror_mode": "shell",
            "mimetype": "text/x-sh",
            "file_extension": ".ps1"
        }
    },
    "nbformat_minor": 2,
    "nbformat": 4,
    "cells": [
        {
            "cell_type": "markdown",
            "source": [
                "<pre>\r\n",
                "██████╗ ██████╗  █████╗ ████████╗ ██████╗  ██████╗ ██╗     ███████╗      \r\n",
                "██╔══██╗██╔══██╗██╔══██╗╚══██╔══╝██╔═══██╗██╔═══██╗██║     ██╔════╝      \r\n",
                "██║  ██║██████╔╝███████║   ██║   ██║   ██║██║   ██║██║     ███████╗      \r\n",
                "██║  ██║██╔══██╗██╔══██║   ██║   ██║   ██║██║   ██║██║     ╚════██║      \r\n",
                "██████╔╝██████╔╝██║  ██║   ██║   ╚██████╔╝╚██████╔╝███████╗███████║      \r\n",
                "╚═════╝ ╚═════╝ ╚═╝  ╚═╝   ╚═╝    ╚═════╝  ╚═════╝ ╚══════╝╚══════╝      \r\n",
                "                                                                         \r\n",
                "██████╗ ███████╗ ██████╗██╗██████╗ ███████╗     ██╗ ██╗  ██████╗ ██╗  ██╗\r\n",
                "██╔══██╗██╔════╝██╔════╝██║██╔══██╗██╔════╝    ████████╗██╔═████╗██║  ██║\r\n",
                "██████╔╝█████╗  ██║     ██║██████╔╝█████╗      ╚██╔═██╔╝██║██╔██║███████║\r\n",
                "██╔══██╗██╔══╝  ██║     ██║██╔═══╝ ██╔══╝      ████████╗████╔╝██║╚════██║\r\n",
                "██║  ██║███████╗╚██████╗██║██║     ███████╗    ╚██╔═██╔╝╚██████╔╝     ██║\r\n",
                "╚═╝  ╚═╝╚══════╝ ╚═════╝╚═╝╚═╝     ╚══════╝     ╚═╝ ╚═╝  ╚═════╝      ╚═╝\r\n",
                "</pre>\r\n",
                "# Recipe #04 - Let's cook!\r\n",
                "## Deserts: \r\n",
                "### - Deploy sp_whoIsActive across instances\r\n",
                "<hr>"
            ],
            "metadata": {
                "azdata_cell_guid": "d5b08277-6cf4-4e00-8deb-37d01e724cbd"
            }
        },
        {
            "cell_type": "markdown",
            "source": [
                "Set variables"
            ],
            "metadata": {
                "azdata_cell_guid": "013b7ee4-6606-4512-960a-4c696b9545a6"
            }
        },
        {
            "cell_type": "code",
            "source": [
                "$dbatools1 = \"localhost,1433\"\r\n",
                "$dbatools2 = \"localhost,14333\"\r\n",
                "$secureString = ConvertTo-SecureString \"dbatools.IO\" -AsPlainText -Force\r\n",
                "$cred = New-Object -TypeName System.Management.Automation.PSCredential -ArgumentList \"sqladmin\", $secureString\r\n",
                "\r\n",
                "$databaseToDeploy = \"master\""
            ],
            "metadata": {
                "azdata_cell_guid": "61e1946b-7bad-4cbb-9d62-63a21176884b"
            },
            "outputs": [],
            "execution_count": 1
        },
        {
            "cell_type": "markdown",
            "source": [
                "Deploy the stored procedure on a list of instances"
            ],
            "metadata": {
                "azdata_cell_guid": "9e0184e0-c30e-45c4-b338-c8fa3c930a98"
            }
        },
        {
            "cell_type": "code",
            "source": [
                "# If you have internet access\r\n",
                "Install-DbaWhoIsActive -SqlInstance $dbatools1, $dbatools2 -SqlCredential $cred -Database $databaseToDeploy -Confirm:$false"
            ],
            "metadata": {
                "azdata_cell_guid": "f357cffa-1e10-4e51-8838-4149abaaf80b"
            },
            "outputs": [],
            "execution_count": 0
        },
        {
            "cell_type": "code",
            "source": [
                "$deploySplat = @{\r\n",
                "    SqlInstance = $dbatools1, $dbatools2\r\n",
                "    SqlCredential = $cred\r\n",
                "    Database = $databaseToDeploy\r\n",
                "    LocalFile = \"D:\\Presentations\\SQLSaturday#926 - Lisboa 2019\\Deploy-spWhoIsActive\\who_is_active_v11_32.sql\" \r\n",
                "    #Confirm = $false\r\n",
                "}\r\n",
                "# Without internet access but with a version saved on a local file\r\n",
                "Install-DbaWhoIsActive @deploySplat"
            ],
            "metadata": {
                "azdata_cell_guid": "6912f599-bbad-480d-8f2d-93a53981fafa"
            },
            "outputs": [],
            "execution_count": 2
        },
        {
            "cell_type": "markdown",
            "source": [
                "### Example by getting the list of instances from your central server"
            ],
            "metadata": {
                "azdata_cell_guid": "1d46ae2c-d60d-4c1a-887b-b4b90482bf7a"
            }
        },
        {
            "cell_type": "code",
            "source": [
                "$SQLServers = Invoke-DbaQuery -ServerInstance \"CentralServerName\" -Query \"SELECT InstanceConnection FROM CentralDB.dbo.Instances\" | Select-Object -ExpandProperty InstanceConnection\r\n",
                "Install-DbaWhoIsActive -SqlInstance $SQLServers -Database $databaseToDeploy"
            ],
            "metadata": {
                "azdata_cell_guid": "07865ef3-5c2b-42b0-9452-715a9908548f"
            },
            "outputs": [],
            "execution_count": 0
        }
    ]
}