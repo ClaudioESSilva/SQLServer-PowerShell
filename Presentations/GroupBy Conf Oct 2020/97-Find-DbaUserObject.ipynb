{
    "metadata": {
        "kernelspec": {
            "name": "powershell",
            "display_name": "PowerShell"
        },
        "language_info": {
            "name": "powershell",
            "codemirror_mode": "shell",
            "mimetype": "text/x-sh",
            "file_extension": ".ps1"
        }
    },
    "nbformat_minor": 2,
    "nbformat": 4,
    "cells": [
        {
            "cell_type": "markdown",
            "source": [
                "```\n",
                "██████╗ ██████╗  █████╗ ████████╗ ██████╗  ██████╗ ██╗     ███████╗       \n",
                "██╔══██╗██╔══██╗██╔══██╗╚══██╔══╝██╔═══██╗██╔═══██╗██║     ██╔════╝       \n",
                "██║  ██║██████╔╝███████║   ██║   ██║   ██║██║   ██║██║     ███████╗       \n",
                "██║  ██║██╔══██╗██╔══██║   ██║   ██║   ██║██║   ██║██║     ╚════██║       \n",
                "██████╔╝██████╔╝██║  ██║   ██║   ╚██████╔╝╚██████╔╝███████╗███████║       \n",
                "╚═════╝ ╚═════╝ ╚═╝  ╚═╝   ╚═╝    ╚═════╝  ╚═════╝ ╚══════╝╚══════╝       \n",
                "\n",
                "██████╗ ███████╗ ██████╗██╗██████╗ ███████╗     ██╗ ██╗  ██████╗  ██████╗ \n",
                "██╔══██╗██╔════╝██╔════╝██║██╔══██╗██╔════╝    ████████╗██╔═████╗██╔════╝ \n",
                "██████╔╝█████╗  ██║     ██║██████╔╝█████╗      ╚██╔═██╔╝██║██╔██║███████╗ \n",
                "██╔══██╗██╔══╝  ██║     ██║██╔═══╝ ██╔══╝      ████████╗████╔╝██║██╔═══██╗\n",
                "██║  ██║███████╗╚██████╗██║██║     ███████╗    ╚██╔═██╔╝╚██████╔╝╚██████╔╝\n",
                "╚═╝  ╚═╝╚══════╝ ╚═════╝╚═╝╚═╝     ╚══════╝     ╚═╝ ╚═╝  ╚═════╝  ╚═════╝ \n",
                "\n",
                "```\n",
                "\n",
                "# Recipe #06 - Let's cook!\n",
                "\n",
                "## Desert:\n",
                "\n",
                "### \\- Finding objects owned by user\n",
                "\n",
                "* * *"
            ],
            "metadata": {
                "azdata_cell_guid": "ab254262-3a98-4abe-910f-c4f85f8e58f6"
            }
        },
        {
            "cell_type": "markdown",
            "source": [
                "Set variables"
            ],
            "metadata": {
                "azdata_cell_guid": "8a3fd25e-f3b7-4c56-9bf8-017e390f8421"
            }
        },
        {
            "cell_type": "code",
            "source": [
                "$dbatools1 = \"localhost,1433\"\r\n",
                "$secureString = ConvertTo-SecureString \"dbatools.IO\" -AsPlainText -Force\r\n",
                "$cred = New-Object -TypeName System.Management.Automation.PSCredential -ArgumentList \"sqladmin\", $secureString\r\n",
                "$database = \"dbatools\"\r\n",
                "$pattern = 'sqladmin'"
            ],
            "metadata": {
                "azdata_cell_guid": "0a83fd19-7dd9-463c-896b-fdefe484045a"
            },
            "outputs": [],
            "execution_count": null
        },
        {
            "cell_type": "markdown",
            "source": [
                "### Find objects owned by a specific user"
            ],
            "metadata": {
                "azdata_cell_guid": "db1b6457-7b99-4f38-93c3-d87f632e00f3"
            }
        },
        {
            "cell_type": "code",
            "source": [
                "Find-DbaUserObject -SqlInstance $dbatools1 -SqlCredential $cred -Pattern $pattern"
            ],
            "metadata": {
                "azdata_cell_guid": "629be6c8-8518-465e-9162-eb1458f97bd2"
            },
            "outputs": [],
            "execution_count": null
        }
    ]
}