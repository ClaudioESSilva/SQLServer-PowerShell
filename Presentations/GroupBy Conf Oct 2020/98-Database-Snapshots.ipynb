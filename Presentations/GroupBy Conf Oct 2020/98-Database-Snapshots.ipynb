{
    "metadata": {
        "kernelspec": {
            "name": "powershell",
            "display_name": "PowerShell"
        },
        "language_info": {
            "name": "powershell",
            "codemirror_mode": "shell",
            "mimetype": "text/x-sh",
            "file_extension": ".ps1"
        }
    },
    "nbformat_minor": 2,
    "nbformat": 4,
    "cells": [
        {
            "cell_type": "markdown",
            "source": [
                "```\n",
                "██████╗ ██████╗  █████╗ ████████╗ ██████╗  ██████╗ ██╗     ███████╗       \n",
                "██╔══██╗██╔══██╗██╔══██╗╚══██╔══╝██╔═══██╗██╔═══██╗██║     ██╔════╝       \n",
                "██║  ██║██████╔╝███████║   ██║   ██║   ██║██║   ██║██║     ███████╗       \n",
                "██║  ██║██╔══██╗██╔══██║   ██║   ██║   ██║██║   ██║██║     ╚════██║       \n",
                "██████╔╝██████╔╝██║  ██║   ██║   ╚██████╔╝╚██████╔╝███████╗███████║       \n",
                "╚═════╝ ╚═════╝ ╚═╝  ╚═╝   ╚═╝    ╚═════╝  ╚═════╝ ╚══════╝╚══════╝       \n",
                "\n",
                "██████╗ ███████╗ ██████╗██╗██████╗ ███████╗     ██╗ ██╗  ██████╗  ██████╗ \n",
                "██╔══██╗██╔════╝██╔════╝██║██╔══██╗██╔════╝    ████████╗██╔═████╗██╔════╝ \n",
                "██████╔╝█████╗  ██║     ██║██████╔╝█████╗      ╚██╔═██╔╝██║██╔██║███████╗ \n",
                "██╔══██╗██╔══╝  ██║     ██║██╔═══╝ ██╔══╝      ████████╗████╔╝██║██╔═══██╗\n",
                "██║  ██║███████╗╚██████╗██║██║     ███████╗    ╚██╔═██╔╝╚██████╔╝╚██████╔╝\n",
                "╚═╝  ╚═╝╚══════╝ ╚═════╝╚═╝╚═╝     ╚══════╝     ╚═╝ ╚═╝  ╚═════╝  ╚═════╝ \n",
                "\n",
                "```\n",
                "\n",
                "# Recipe #06 - Let's cook!\n",
                "\n",
                "## Desert:\n",
                "\n",
                "### \\- Working with snapshots\n",
                "\n",
                "* * *"
            ],
            "metadata": {
                "azdata_cell_guid": "ab254262-3a98-4abe-910f-c4f85f8e58f6"
            }
        },
        {
            "cell_type": "markdown",
            "source": [
                "Set variables"
            ],
            "metadata": {
                "azdata_cell_guid": "8a3fd25e-f3b7-4c56-9bf8-017e390f8421"
            }
        },
        {
            "cell_type": "code",
            "source": [
                "$dbatools1 = \"localhost,1433\"\r\n",
                "$secureString = ConvertTo-SecureString \"dbatools.IO\" -AsPlainText -Force\r\n",
                "$cred = New-Object -TypeName System.Management.Automation.PSCredential -ArgumentList \"sqladmin\", $secureString\r\n",
                "$database = \"dbatools\"\r\n",
                "$snapshotName = \"dbatools_snapshot\""
            ],
            "metadata": {
                "azdata_cell_guid": "0a83fd19-7dd9-463c-896b-fdefe484045a"
            },
            "outputs": [],
            "execution_count": null
        },
        {
            "cell_type": "markdown",
            "source": [
                "### Create new database snapshot"
            ],
            "metadata": {
                "azdata_cell_guid": "db1b6457-7b99-4f38-93c3-d87f632e00f3"
            }
        },
        {
            "cell_type": "code",
            "source": [
                "New-DbaDbSnapshot -SqlInstance $dbatools1 -SqlCredential $cred -Database $database -Name $snapshotName"
            ],
            "metadata": {
                "azdata_cell_guid": "629be6c8-8518-465e-9162-eb1458f97bd2"
            },
            "outputs": [],
            "execution_count": null
        },
        {
            "cell_type": "code",
            "source": [
                "Get-DbaDbSnapshot -SqlInstance $dbatools1 -SqlCredential $cred"
            ],
            "metadata": {
                "azdata_cell_guid": "948f2b8a-e8d4-4d75-b0ac-e948dcf84be3"
            },
            "outputs": [],
            "execution_count": null
        },
        {
            "cell_type": "code",
            "source": [
                "Get-DbaProcess -SqlInstance $dbatools1 -SqlCredential $cred -Database $database | Stop-DbaProcess"
            ],
            "metadata": {
                "azdata_cell_guid": "cef41297-76c2-4baf-a96d-19e4caa5e7be"
            },
            "outputs": [],
            "execution_count": null
        },
        {
            "cell_type": "code",
            "source": [
                "Restore-DbaDbSnapshot -SqlInstance $dbatools1 -SqlCredential $cred -Database $database -Snapshot $snapshotName"
            ],
            "metadata": {
                "azdata_cell_guid": "811ef36d-6949-405f-b87d-e9396ecd8779"
            },
            "outputs": [],
            "execution_count": null
        },
        {
            "cell_type": "code",
            "source": [
                "# or -Database db1\r\n",
                "Remove-DbaDbSnapshot -SqlInstance $dbatools1 -SqlCredential $cred -Snapshot $snapshotName"
            ],
            "metadata": {
                "azdata_cell_guid": "6fefeb94-5d54-473b-b23d-b753626e20b5",
                "tags": []
            },
            "outputs": [],
            "execution_count": null
        }
    ]
}