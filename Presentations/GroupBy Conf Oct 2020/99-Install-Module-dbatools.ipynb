{
    "metadata": {
        "kernelspec": {
            "name": "powershell",
            "display_name": "PowerShell"
        },
        "language_info": {
            "name": "powershell",
            "codemirror_mode": "shell",
            "mimetype": "text/x-sh",
            "file_extension": ".ps1"
        }
    },
    "nbformat_minor": 2,
    "nbformat": 4,
    "cells": [
        {
            "cell_type": "markdown",
            "source": [
                "# Install dbatools inside the (Ubuntu) container"
            ],
            "metadata": {
                "azdata_cell_guid": "2c0f42fe-7d6e-4eff-ba7a-17d7ac436eef"
            }
        },
        {
            "cell_type": "markdown",
            "source": [
                "## lunch bash shell within container\n",
                "`docker exec -it dockersql2 /bin/bash`\n",
                "\n",
                "<hr>\n",
                "\n",
                "### update libraries\n",
                "`apt-get update`  \n",
                "\n",
                "### Install PowerShell on Linux (Ubuntu)\n",
                "\n",
                "`apt-get install -y powershell`  \n",
                "\n",
                "### Enter on PowerShell\n",
                "`pwsh`  \n",
                "\n",
                "### Install dbatools module\n",
                "`Install-Module -Name dbatools`"
            ],
            "metadata": {
                "azdata_cell_guid": "cb325a20-ea7d-43bb-9eea-b7d7e030c373"
            }
        }
    ]
}