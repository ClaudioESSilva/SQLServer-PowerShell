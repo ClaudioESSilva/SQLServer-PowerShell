{
    "metadata": {
        "kernelspec": {
            "name": "powershell",
            "display_name": "PowerShell"
        },
        "language_info": {
            "name": "powershell",
            "codemirror_mode": "shell",
            "mimetype": "text/x-sh",
            "file_extension": ".ps1"
        }
    },
    "nbformat_minor": 2,
    "nbformat": 4,
    "cells": [
        {
            "cell_type": "markdown",
            "source": [
                "## Check if we have dbatools docker images"
            ],
            "metadata": {
                "azdata_cell_guid": "18765a75-af15-4b2d-9bd2-59b21ff5a91a",
                "tags": []
            }
        },
        {
            "cell_type": "code",
            "source": [
                "docker images \"dbatools/*\""
            ],
            "metadata": {
                "azdata_cell_guid": "07aadc8e-fd3a-42d8-9496-71be2d7e67c6",
                "tags": []
            },
            "outputs": [],
            "execution_count": null
        },
        {
            "cell_type": "markdown",
            "source": [
                "## Download dbatools docker images"
            ],
            "metadata": {
                "azdata_cell_guid": "4c8f6a11-f39d-41af-a3c7-9087bd031d82",
                "tags": []
            }
        },
        {
            "cell_type": "code",
            "source": [
                "# get the base images\r\n",
                "docker pull dbatools/sqlinstance\r\n",
                "docker pull dbatools/sqlinstance2"
            ],
            "metadata": {
                "azdata_cell_guid": "3f7b265a-b9e6-4488-8b70-aaf60b29ac0a",
                "tags": []
            },
            "outputs": [],
            "execution_count": null
        },
        {
            "cell_type": "markdown",
            "source": [
                "## Verify if we have containers setup"
            ],
            "metadata": {
                "azdata_cell_guid": "5b8ea9ef-8c49-48a7-80a4-61e6c45842c2",
                "tags": []
            }
        },
        {
            "cell_type": "code",
            "source": [
                "docker ps -a"
            ],
            "metadata": {
                "azdata_cell_guid": "4adf5ca8-8906-4056-bb8a-78d6151bd963",
                "tags": []
            },
            "outputs": [],
            "execution_count": null
        },
        {
            "cell_type": "markdown",
            "source": [
                "### If containers are not up and running, start them"
            ],
            "metadata": {
                "azdata_cell_guid": "394165c7-d2a7-4ffd-8e44-1038f7bd219a",
                "tags": []
            }
        },
        {
            "cell_type": "code",
            "source": [
                "# start container dockersql1\r\n",
                "docker start dockersql1\r\n",
                "\r\n",
                "# start container dockersql2 \r\n",
                "docker start dockersql2"
            ],
            "metadata": {
                "azdata_cell_guid": "ece4c5c8-4130-46c4-81c1-664d5b1728f8",
                "tags": []
            },
            "outputs": [],
            "execution_count": null
        },
        {
            "cell_type": "markdown",
            "source": [
                "### If not available we need to start them with parameters"
            ],
            "metadata": {
                "azdata_cell_guid": "aea2c09f-996b-410f-a867-c4c1f80357cf",
                "tags": []
            }
        },
        {
            "cell_type": "code",
            "source": [
                "# stop and remove containers\r\n",
                "docker kill dockersql1, dockersql2\r\n",
                "docker rm dockersql1, dockersql2\r\n",
                "\r\n",
                "# setup two containers and expose ports\r\n",
                "docker run `\r\n",
                "    -p 1433:1433 `\r\n",
                "    -p 5022:5022 `\r\n",
                "    --network localnet `\r\n",
                "    -v sharedFolder:/tmp `\r\n",
                "    --hostname dockersql1 `\r\n",
                "    --name dockersql1 `\r\n",
                "    -d dbatools/sqlinstance\r\n",
                "    \r\n",
                "\r\n",
                "docker run `\r\n",
                "    -p 14333:1433 `\r\n",
                "    -p 5023:5022 `\r\n",
                "    --network localnet `\r\n",
                "    -v sharedFolder:/tmp `\r\n",
                "    --hostname dockersql2 `\r\n",
                "    --name dockersql2 `\r\n",
                "    -d dbatools/sqlinstance2"
            ],
            "metadata": {
                "azdata_cell_guid": "62fcf809-7e32-41ad-9e44-07c8bc3f1b64",
                "tags": []
            },
            "outputs": [],
            "execution_count": null
        },
        {
            "cell_type": "markdown",
            "source": [
                "## Set variables values"
            ],
            "metadata": {
                "azdata_cell_guid": "ae67bc5a-a96b-4903-8406-8fb2d7d6e46c",
                "tags": []
            }
        },
        {
            "cell_type": "code",
            "source": [
                "$dbatools1 = \"localhost,1433\"\r\n",
                "$dbatools2 = \"localhost,14333\"\r\n",
                "$dbatoolsEdge = \"raspberrypi.lan\"\r\n",
                "$login = \"sqladmin\"\r\n",
                "$loginEdge = \"sa\"\r\n",
                "$database = \"Pubs\"\r\n",
                "$AG = \"test-ag\"\r\n",
                "$edgeDatabase = \"EmptyNorthwind\"\r\n",
                "$edgeCentralDB = \"CentralDB\"\r\n",
                "\r\n",
                "# dbatools docker images\r\n",
                "$secureString = ConvertTo-SecureString \"dbatools.IO\" -AsPlainText -Force\r\n",
                "$cred = New-Object -TypeName System.Management.Automation.PSCredential -ArgumentList $login, $secureString\r\n",
                "\r\n",
                "$secureStringEdge = ConvertTo-SecureString \"myStrong!Password\" -AsPlainText -Force\r\n",
                "$credEdge = New-Object -TypeName System.Management.Automation.PSCredential -ArgumentList $loginEdge, $secureStringEdge"
            ],
            "metadata": {
                "azdata_cell_guid": "60df9441-10c6-4b3d-ae9b-acb44e6908b5",
                "tags": []
            },
            "outputs": [],
            "execution_count": null
        },
        {
            "cell_type": "markdown",
            "source": [
                "# Azure SQL Edge"
            ],
            "metadata": {
                "azdata_cell_guid": "6e3a80d0-c9b7-493b-b96a-b58180be58ab"
            }
        },
        {
            "cell_type": "markdown",
            "source": [
                "### Verify if Azure SQL Server on Edge has our login with proper permissions"
            ],
            "metadata": {
                "azdata_cell_guid": "3adce624-8ba2-4496-9e0e-18c3625a0339"
            }
        },
        {
            "cell_type": "code",
            "source": [
                "# Create \r\n",
                "New-DbaLogin -SqlInstance $dbatoolsEdge -SqlCredential $credEdge -Login $login -SecurePassword $secureString\r\n",
                "\r\n",
                "# Add login to sysadmin server role\r\n",
                "Add-DbaServerRoleMember -SqlInstance $dbatoolsEdge -SqlCredential $credEdge -Login $login -ServerRole sysadmin -Confirm:$false"
            ],
            "metadata": {
                "azdata_cell_guid": "4eaf2481-b2bd-4a77-8d9e-86571ca636a8",
                "tags": []
            },
            "outputs": [],
            "execution_count": null
        },
        {
            "cell_type": "markdown",
            "source": [
                " Drop database from copy table data demo"
            ],
            "metadata": {
                "azdata_cell_guid": "bf106ab9-77fc-422e-8386-7cc22d9605b7"
            }
        },
        {
            "cell_type": "code",
            "source": [
                "# Remove Database from Raspberry Pi\r\n",
                "Remove-DbaDatabase -SqlInstance $dbatoolsEdge -SqlCredential $cred -Database $edgeDatabase -Confirm:$false"
            ],
            "metadata": {
                "azdata_cell_guid": "a6306407-cd15-4ed0-8eb3-8dae4eb0146f",
                "tags": []
            },
            "outputs": [],
            "execution_count": null
        },
        {
            "cell_type": "markdown",
            "source": [
                "Drop sp\\_whoIsActive from master database"
            ],
            "metadata": {
                "azdata_cell_guid": "553b700c-d301-4839-93af-a1f48cd67399"
            }
        },
        {
            "cell_type": "code",
            "source": [
                "Invoke-DbaQuery -SqlInstance $dbatoolsEdge -SqlCredential $cred -Database \"master\" -Query \"DROP PROCEDURE IF EXISTS dbo.sp_WhoisActive\""
            ],
            "metadata": {
                "azdata_cell_guid": "00d35f97-2785-4a08-ba67-74efd03e3b6d"
            },
            "outputs": [],
            "execution_count": null
        },
        {
            "cell_type": "markdown",
            "source": [
                "Create central DB with connection strings to all instances"
            ],
            "metadata": {
                "azdata_cell_guid": "54d1d1f8-157e-4d79-8645-b45c47d45309"
            }
        },
        {
            "cell_type": "code",
            "source": [
                "# Drop database CentralDB from Raspberry Pi\r\n",
                "# Remove Database from Raspberry Pi\r\n",
                "Remove-DbaDatabase -SqlInstance $dbatoolsEdge -SqlCredential $cred -Database $edgeCentralDB -Confirm:$false\r\n",
                "\r\n",
                "# New database\r\n",
                "New-DbaDatabase -SqlInstance $dbatoolsEdge -SqlCredential $cred -Name $edgeCentralDB\r\n",
                "\r\n",
                "# New table and insert data\r\n",
                "Invoke-DbaQuery -SqlInstance $dbatoolsEdge -SqlCredential $cred -File \"D:\\Presentations\\GroupBy Conf Oct 2020\\Reset\\CentralDB.sql\""
            ],
            "metadata": {
                "azdata_cell_guid": "13717936-c651-4d43-a22d-1a94f4864b7b"
            },
            "outputs": [],
            "execution_count": null
        },
        {
            "cell_type": "markdown",
            "source": [
                "# Docker local laptop"
            ],
            "metadata": {
                "azdata_cell_guid": "20a2175d-159d-40d7-b208-a8eb4f27507f"
            }
        },
        {
            "cell_type": "markdown",
            "source": [
                "## Remove 'test-ag' from AG"
            ],
            "metadata": {
                "azdata_cell_guid": "3cbc9d43-6ff1-43c0-8412-6ba06de6d5a1",
                "tags": []
            }
        },
        {
            "cell_type": "code",
            "source": [
                "# Remove Database from AG\r\n",
                "Remove-DbaAgDatabase -SqlInstance $dbatools1 -SqlCredential $cred -AvailabilityGroup $AG -Database $database -Confirm:$false\r\n",
                "\r\n",
                "# Remove Availability group\r\n",
                "Remove-DbaAvailabilityGroup -SqlInstance $dbatools1, $dbatools2 -SqlCredential $cred -AvailabilityGroup $AG -Confirm:$false\r\n",
                "\r\n",
                "# Remove Database from secondary instance\r\n",
                "Remove-DbaDatabase -SqlInstance $dbatools2 -SqlCredential $cred -Database $database -Confirm:$false"
            ],
            "metadata": {
                "azdata_cell_guid": "445407cb-435a-48a3-bd5d-948a546cfbfe",
                "tags": []
            },
            "outputs": [],
            "execution_count": null
        },
        {
            "cell_type": "markdown",
            "source": [
                "# Grant permissions"
            ],
            "metadata": {
                "azdata_cell_guid": "53978a7c-7742-470f-9e05-7dea86d88a45",
                "tags": []
            }
        },
        {
            "cell_type": "code",
            "source": [
                "$filePermissions = \"D:\\Presentations\\GroupBy Conf Oct 2020\\Reset\\02_GrantPermissions.sql\"\r\n",
                "\r\n",
                "$scriptWithoutGO = (Get-Content $filePermissions -Raw) -replace '\\bGO\\b', ' '\r\n",
                "\r\n",
                "Invoke-DbaQuery -SqlInstance $dbatools1 -SqlCredential $cred -Query $scriptWithoutGO -Verbose"
            ],
            "metadata": {
                "azdata_cell_guid": "814e66af-d935-4523-88b4-351821ba7112",
                "tags": []
            },
            "outputs": [],
            "execution_count": null
        },
        {
            "cell_type": "markdown",
            "source": [
                "Drop `storageuserColleague`"
            ],
            "metadata": {
                "azdata_cell_guid": "1077f2ab-6f87-4791-a637-bbd5907dd5ce"
            }
        },
        {
            "cell_type": "code",
            "source": [
                "Remove-DbaLogin -SqlInstance $dbatools1 -SqlCredential $cred -Login 'storageuserColleague' -Confirm:$false\r\n",
                "Remove-DbaDbUser -SqlInstance $dbatools1 -SqlCredential $cred -User 'storageuserColleague' -Confirm:$false"
            ],
            "metadata": {
                "azdata_cell_guid": "962033a2-765c-425c-ada7-a62f875ea48b"
            },
            "outputs": [],
            "execution_count": null
        },
        {
            "cell_type": "markdown",
            "source": [
                "### Check Permissions"
            ],
            "metadata": {
                "azdata_cell_guid": "8adc8f8d-448c-49ec-acda-402cf8dd30f2",
                "tags": []
            }
        },
        {
            "cell_type": "code",
            "source": [
                "Get-DbaUserPermission -SqlInstance $dbatools1 -SqlCredential $cred | Format-Table"
            ],
            "metadata": {
                "azdata_cell_guid": "e8d0d5e2-f2eb-4db3-b599-568d26664706",
                "tags": [
                    "hide_input"
                ]
            },
            "outputs": [],
            "execution_count": null
        },
        {
            "cell_type": "markdown",
            "source": [
                "### Remove files from directories"
            ],
            "metadata": {
                "azdata_cell_guid": "e4c3a642-34b0-4dff-bbde-c2b1b7ee0c4c",
                "tags": []
            }
        },
        {
            "cell_type": "code",
            "source": [
                "Remove-Item \"D:\\Presentations\\GroupBy Conf Oct 2020\\Replicate Permissions\\*.sql\" -Confirm:$false"
            ],
            "metadata": {
                "azdata_cell_guid": "d2250eb7-110c-4958-9810-d6483565a35d",
                "tags": []
            },
            "outputs": [],
            "execution_count": null
        },
        {
            "cell_type": "markdown",
            "source": [
                "# Remove Export-DbaDatabase temp folder content"
            ],
            "metadata": {
                "azdata_cell_guid": "a4453c1a-3d0d-43e5-9f2c-e73eae6d5950",
                "tags": []
            }
        },
        {
            "cell_type": "code",
            "source": [
                "Remove-Item \"D:\\Presentations\\GroupBy Conf Oct 2020\\Export-DbaDatabase\\temp\\*\" -Recurse -Confirm:$false -Force\r\n",
                "\r\n",
                "Remove-Item \"D:\\Presentations\\GroupBy Conf Oct 2020\\Export-DbaDatabase\\*\" -Exclude \"temp\" -Recurse -Confirm:$false -Force"
            ],
            "metadata": {
                "azdata_cell_guid": "c510283f-b7bf-438f-abfa-481695678c96",
                "tags": []
            },
            "outputs": [],
            "execution_count": null
        },
        {
            "cell_type": "markdown",
            "source": [
                "<hr>\r\n",
                "\r\n",
                "## Reset for copy data demo\r\n",
                "\r\n",
                "Remove `EmptyNorthwind` database from `localhost,14333` instance"
            ],
            "metadata": {
                "azdata_cell_guid": "94e355d2-ec3f-4a41-879b-7ed467e1bc96",
                "tags": []
            }
        },
        {
            "cell_type": "code",
            "source": [
                "Remove-DbaDatabase -SqlInstance $dbatools2 -SqlCredential $cred -Database EmptyNorthwind -Confirm:$false"
            ],
            "metadata": {
                "azdata_cell_guid": "39f23106-db27-4ba3-a57a-9beb197c8243",
                "tags": []
            },
            "outputs": [],
            "execution_count": null
        },
        {
            "cell_type": "markdown",
            "source": [
                "Drop table `[dbo].[CopyOf_Order Details]`"
            ],
            "metadata": {
                "azdata_cell_guid": "f7932ee0-b1d5-4088-af9c-8c84683cdcee",
                "tags": []
            }
        },
        {
            "cell_type": "code",
            "source": [
                "Invoke-DbaQuery -SqlInstance $dbatools1 -SqlCredential $cred -Database Northwind -Query \"DROP TABLE [dbo].[CopyOf_Order Details]\""
            ],
            "metadata": {
                "azdata_cell_guid": "efd250c8-1ba6-47d4-b3ef-bb596083858f",
                "tags": []
            },
            "outputs": [],
            "execution_count": null
        },
        {
            "cell_type": "markdown",
            "source": [
                "# Reset for refresh database demo\r\n",
                "### Create `dbatools` database from `pubs` on `dockersql1` and also copy to `dockersql2`\r\n",
                "### They will have different users"
            ],
            "metadata": {
                "azdata_cell_guid": "b7c57086-76c1-4bf2-add5-d5b87bbbffc4",
                "tags": []
            }
        },
        {
            "cell_type": "code",
            "source": [
                "# Remove database if exists\r\n",
                "Remove-DbaDatabase -SqlInstance $dbatools1, $dbatools2 -SqlCredential $cred -Database \"dbatools\" -Confirm:$false\r\n",
                "\r\n",
                "#Same instance\r\n",
                "$copyDatabaseSplat = @{\r\n",
                "    Source = $dbatools1\r\n",
                "    SourceSqlCredential = $cred\r\n",
                "    Destination = $dbatools1\r\n",
                "    DestinationSqlCredential = $cred\r\n",
                "    Database = \"pubs\"\r\n",
                "    BackupRestore = $true\r\n",
                "    SharedPath = \"/tmp\" \r\n",
                "    NewName = \"dbatools\"\r\n",
                "}\r\n",
                "Copy-DbaDatabase @copyDatabaseSplat\r\n",
                "\r\n",
                "# Create login/user with \"_qa\"\r\n",
                "$loginUser_qa = \"dbatools_qa\"\r\n",
                "$refreshDatabase = \"dbatools\"\r\n",
                "New-DbaLogin -SqlInstance $dbatools1 -SqlCredential $cred -Login $loginUser_qa -SecurePassword $secureString\r\n",
                "New-DbaDbUser -SqlInstance $dbatools1 -SqlCredential $cred -Username $loginUser_qa -Login $loginUser_qa -Database $refreshDatabase\r\n",
                "\r\n",
                "# Grant some permissions\r\n",
                "$grants = \"GRANT CREATE VIEW TO [dbatools_qa]  AS [dbo];\r\n",
                "GRANT SELECT ON OBJECT::[dbo].[authors] TO [dbatools_qa]  AS [dbo];\r\n",
                "GRANT DELETE ON OBJECT::[dbo].[authors] TO [dbatools_qa]  AS [dbo];\r\n",
                "GRANT INSERT ON OBJECT::[dbo].[authors] TO [dbatools_qa]  AS [dbo];\r\n",
                "REVOKE SELECT ON [dbo].[authors] TO [guest] AS [dbo]\r\n",
                "\"\r\n",
                "# Run the exported script\r\n",
                "Invoke-DbaQuery -SqlInstance $dbatools1 -SqlCredential $cred -Database $refreshDatabase -Query $grants -Verbose\r\n",
                "\r\n",
                "$copyDatabaseSplat = @{\r\n",
                "    Source = $dbatools1\r\n",
                "    SourceSqlCredential = $cred\r\n",
                "    Destination = $dbatools2\r\n",
                "    DestinationSqlCredential = $cred\r\n",
                "    Database = \"dbatools\"\r\n",
                "    BackupRestore = $true\r\n",
                "    SharedPath = \"/tmp\"\r\n",
                "}\r\n",
                "Copy-DbaDatabase @copyDatabaseSplat\r\n",
                "\r\n",
                "\r\n",
                "# Create login/user with \"_dev\"\r\n",
                "$loginUser_dev = \"dbatools_dev\"\r\n",
                "$refreshDatabase = \"dbatools\"\r\n",
                "New-DbaLogin -SqlInstance $dbatools2 -SqlCredential $cred -Login $loginUser_dev -SecurePassword $secureString -Force\r\n",
                "New-DbaDbUser -SqlInstance $dbatools2 -SqlCredential $cred -Username $loginUser_dev -Login $loginUser_dev -Database $refreshDatabase\r\n",
                "\r\n",
                "# Grant some permissions\r\n",
                "$grants = \"GRANT CREATE VIEW TO [dbatools_dev];\r\n",
                "GRANT SELECT ON OBJECT::[dbo].[authors] TO [dbatools_dev];\r\n",
                "\"\r\n",
                "# Run the exported script\r\n",
                "Invoke-DbaQuery -SqlInstance $dbatools2 -SqlCredential $cred -Database $refreshDatabase -Query $grants -Verbose\r\n",
                "\r\n",
                "Remove-DbaDbUser -SqlInstance $dbatools2 -SqlCredential $cred -Database $refreshDatabase -User $loginUser_qa"
            ],
            "metadata": {
                "azdata_cell_guid": "7306261c-9119-421b-8072-1e5d115fa21a",
                "tags": []
            },
            "outputs": [],
            "execution_count": null
        },
        {
            "cell_type": "markdown",
            "source": [
                "<hr>\r\n",
                "Clean up xlsx files from `Test-Compliance` folder"
            ],
            "metadata": {
                "azdata_cell_guid": "1f8b7d95-5088-41d7-afe6-ec9e98c98dca",
                "tags": []
            }
        },
        {
            "cell_type": "code",
            "source": [
                "Remove-Item \"D:\\Presentations\\GroupBy Conf Oct 2020\\Test-Compliance\\*.xlsx\" -Recurse -Confirm:$false -Force"
            ],
            "metadata": {
                "azdata_cell_guid": "a2a87de3-34a2-4a9d-a289-12f9f975d324",
                "tags": []
            },
            "outputs": [],
            "execution_count": null
        },
        {
            "cell_type": "markdown",
            "source": [
                "Clean up xlsx files from `Excel-Report` folder"
            ],
            "metadata": {
                "azdata_cell_guid": "da88e1ec-93e7-4113-b001-324bdded533f"
            }
        },
        {
            "cell_type": "code",
            "source": [
                "Remove-Item \"D:\\Presentations\\GroupBy Conf Oct 2020\\Excel-Report\\*.xlsx\" -Recurse -Confirm:$false -Force"
            ],
            "metadata": {
                "azdata_cell_guid": "c542580e-197f-4f8e-8376-7d577280554b"
            },
            "outputs": [],
            "execution_count": null
        }
    ]
}