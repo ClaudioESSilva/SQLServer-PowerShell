{
    "metadata": {
        "kernelspec": {
            "name": "powershell",
            "display_name": "PowerShell"
        },
        "language_info": {
            "name": "powershell",
            "codemirror_mode": "shell",
            "mimetype": "text/x-sh",
            "file_extension": ".ps1"
        }
    },
    "nbformat_minor": 2,
    "nbformat": 4,
    "cells": [
        {
            "cell_type": "markdown",
            "source": [
                "<pre>\r\n",
                "██████╗ ██████╗  █████╗ ████████╗ ██████╗  ██████╗ ██╗     ███████╗      \r\n",
                "██╔══██╗██╔══██╗██╔══██╗╚══██╔══╝██╔═══██╗██╔═══██╗██║     ██╔════╝      \r\n",
                "██║  ██║██████╔╝███████║   ██║   ██║   ██║██║   ██║██║     ███████╗      \r\n",
                "██║  ██║██╔══██╗██╔══██║   ██║   ██║   ██║██║   ██║██║     ╚════██║      \r\n",
                "██████╔╝██████╔╝██║  ██║   ██║   ╚██████╔╝╚██████╔╝███████╗███████║      \r\n",
                "╚═════╝ ╚═════╝ ╚═╝  ╚═╝   ╚═╝    ╚═════╝  ╚═════╝ ╚══════╝╚══════╝      \r\n",
                "                                                                         \r\n",
                "██████╗ ███████╗ ██████╗██╗██████╗ ███████╗     ██╗ ██╗  ██████╗ ██████╗ \r\n",
                "██╔══██╗██╔════╝██╔════╝██║██╔══██╗██╔════╝    ████████╗██╔═████╗╚════██╗\r\n",
                "██████╔╝█████╗  ██║     ██║██████╔╝█████╗      ╚██╔═██╔╝██║██╔██║ █████╔╝\r\n",
                "██╔══██╗██╔══╝  ██║     ██║██╔═══╝ ██╔══╝      ████████╗████╔╝██║██╔═══╝ \r\n",
                "██║  ██║███████╗╚██████╗██║██║     ███████╗    ╚██╔═██╔╝╚██████╔╝███████╗\r\n",
                "╚═╝  ╚═╝╚══════╝ ╚═════╝╚═╝╚═╝     ╚══════╝     ╚═╝ ╚═╝  ╚═════╝ ╚══════╝\r\n",
                "\r\n",
                " __   ___  __          __       ___  ___     __   ___  __           __   __     __        __  \r\n",
                "|__) |__  |__) |    | /  `  /\\   |  |__     |__) |__  |__)  |\\/| | /__` /__` | /  \\ |\\ | /__` \r\n",
                "|  \\ |___ |    |___ | \\__, /~~\\  |  |___    |    |___ |  \\  |  | | .__/ .__/ | \\__/ | \\| .__/ \r\n",
                "\r\n",
                "</pre>\r\n",
                "\r\n",
                ""
            ],
            "metadata": {
                "azdata_cell_guid": "e6cfc63b-a41e-4cd6-9765-1e99afad8975"
            }
        },
        {
            "cell_type": "markdown",
            "source": [
                "# Recipe #02 - Let's cook!\r\n",
                "\r\n",
                "## Appetizers\r\n",
                "\r\n",
                "### Request: \r\n",
                "\"We have a new colleague, can you  please grant them the exactly same permissions I have?!\"\r\n",
                "\r\n",
                "> Note: IF it is a Windows Login suggest the usage of AD groups to help you and themselves.\r\n",
                "\r\n",
                "You can find more options on my blog post: [Replicate permissions to new Login/User with dbatools](https://claudioessilva.eu/2020/05/28/replicate-permissions-to-new-login-user-with-dbatools/)"
            ],
            "metadata": {
                "azdata_cell_guid": "d65b3f05-29ef-4958-b20a-62a28bc90c60"
            }
        },
        {
            "cell_type": "markdown",
            "source": [
                "<hr>\r\n",
                "\r\n",
                "### Set some variables"
            ],
            "metadata": {
                "azdata_cell_guid": "ce12b448-dbf3-4227-aeb5-4d319e40e45c"
            }
        },
        {
            "cell_type": "code",
            "source": [
                "$dbatools1 = \"localhost,1433\"\r\n",
                "\r\n",
                "$loginUser = \"storageuser\"\r\n",
                "\r\n",
                "$secureString = ConvertTo-SecureString \"dbatools.IO\" -AsPlainText -Force\r\n",
                "$cred = New-Object -TypeName System.Management.Automation.PSCredential -ArgumentList \"sqladmin\", $secureString\r\n",
                "\r\n",
                "$newLoginUser = \"storageuserColleague\"\r\n",
                "$secureString = ConvertTo-SecureString \"123\" -AsPlainText -Force\r\n",
                "$newLoginCred = New-Object -TypeName System.Management.Automation.PSCredential -ArgumentList \"storageuserColleague\", $secureString\r\n",
                "\r\n",
                "\r\n",
                "$fileLogin = \"D:\\Presentations\\GroupBy Conf Oct 2020\\Replicate Permissions\\Login.sql\"\r\n",
                "$fileUser = \"D:\\Presentations\\GroupBy Conf Oct 2020\\Replicate Permissions\\User.sql\"\r\n",
                "$fileNewLoginUser = \"D:\\Presentations\\GroupBy Conf Oct 2020\\Replicate Permissions\\NewLoginUser.sql\"\r\n",
                "$confirmPermissions = \"D:\\Presentations\\GroupBy Conf Oct 2020\\Replicate Permissions\\01_CheckPermissions.sql\""
            ],
            "metadata": {
                "azdata_cell_guid": "0f1d0927-da23-4003-ac53-717fa9b5959c"
            },
            "outputs": [],
            "execution_count": null
        },
        {
            "cell_type": "markdown",
            "source": [
                "### Export Login permissions"
            ],
            "metadata": {
                "azdata_cell_guid": "16f682de-639d-4673-93cd-03d0c5637c34"
            }
        },
        {
            "cell_type": "code",
            "source": [
                "# Export the login and its server-roles, server-level and database-level permissions\r\n",
                "Export-DbaLogin -SqlInstance $dbatools1 -SqlCredential $cred -Login $loginUser -FilePath $fileLogin -Verbose"
            ],
            "metadata": {
                "azdata_cell_guid": "4c686708-465d-40cd-b6e6-68f49a8f1980"
            },
            "outputs": [],
            "execution_count": null
        },
        {
            "cell_type": "markdown",
            "source": [
                "### Export user permission"
            ],
            "metadata": {
                "azdata_cell_guid": "8ab2146b-2961-4b9c-9a94-4d100e527b87"
            }
        },
        {
            "cell_type": "code",
            "source": [
                "# Export the user from every database and its permissions at database-roles and object level\r\n",
                "Export-DbaUser -SqlInstance $dbatools1 -SqlCredential $cred -User $loginUser -FilePath $fileUser -Verbose"
            ],
            "metadata": {
                "azdata_cell_guid": "01902774-b46d-4395-be79-e71e08f0338d"
            },
            "outputs": [],
            "execution_count": null
        },
        {
            "cell_type": "markdown",
            "source": [
                "### Replaces:\r\n",
                "1. Replace the login/username by the new one\r\n",
                "2. Replace SID (to prevent duplicate ones) by nothing/empty"
            ],
            "metadata": {
                "azdata_cell_guid": "fdb8002b-8068-470c-92f6-dd1fc7f30754"
            }
        },
        {
            "cell_type": "code",
            "source": [
                "((Get-Content $filelogin, $fileUser -Raw) -replace ($loginuser, $newloginuser)) -Replace '(, SID[^,]*)', ' ' | Set-content $fileNewLoginUser"
            ],
            "metadata": {
                "azdata_cell_guid": "ea6478eb-80e7-4096-b1aa-c51b4ba93bd0"
            },
            "outputs": [],
            "execution_count": null
        },
        {
            "cell_type": "markdown",
            "source": [
                "## Limitation\r\n",
                "> The `Invoke-DbaQuery` command is not dealing with scripts with multiple statements divided by `GO`.\r\n",
                "Here is two different workarounds to run scripts with multiple statements divided by `GO` batch separator"
            ],
            "metadata": {
                "azdata_cell_guid": "5ff030cd-7d0a-42e4-aa1f-c945748bbd3d"
            }
        },
        {
            "cell_type": "markdown",
            "source": [
                "### Woraround 1"
            ],
            "metadata": {
                "azdata_cell_guid": "a7358593-d42d-4096-ab94-2f015c55ef60"
            }
        },
        {
            "cell_type": "code",
            "source": [
                "# Workaround #1 - Remove the 'GO's from script\r\n",
                "$scriptWithoutGO = (Get-Content $fileNewLoginUser -Raw) -replace '\\bGO\\b', ' '\r\n",
                "\r\n",
                "$scriptWithoutGO"
            ],
            "metadata": {
                "azdata_cell_guid": "beb45903-b1fd-4390-bd07-9b06dcd78e3f",
                "tags": []
            },
            "outputs": [],
            "execution_count": null
        },
        {
            "cell_type": "code",
            "source": [
                "# Run the script\r\n",
                "Invoke-DbaQuery -SqlInstance $dbatools1 -SqlCredential $cred -Query $scriptWithoutGO -Verbose"
            ],
            "metadata": {
                "azdata_cell_guid": "37aef036-f005-42a0-add1-fd9f8a9c5d15"
            },
            "outputs": [],
            "execution_count": null
        },
        {
            "cell_type": "markdown",
            "source": [
                "### Workaround 2\r\n",
                "> With this approach you can keep the `GO` batch separator. It's the similar of what we do manually when running within SSMS/ADS"
            ],
            "metadata": {
                "azdata_cell_guid": "882ac1d9-cad2-4edb-ac11-6fa7f55b9229"
            }
        },
        {
            "cell_type": "code",
            "source": [
                "# Workaround #2 - Run the changed script using the ExecuteNonQuery method\r\n",
                "$sqlInst = Connect-DbaInstance $dbatools1 -SqlCredential $cred\r\n",
                "$script = Get-Content $fileNewLoginUser -Raw\r\n",
                "$sqlInst.Databases[\"master\"].ExecuteNonQuery($script)"
            ],
            "metadata": {
                "azdata_cell_guid": "91118cdd-e6ad-49ee-8157-e98bc55a0b69"
            },
            "outputs": [],
            "execution_count": null
        },
        {
            "cell_type": "markdown",
            "source": [
                "### If applicable, reset the login's password"
            ],
            "metadata": {
                "azdata_cell_guid": "98eefec0-3e3f-4e76-887a-d867b1701511"
            }
        },
        {
            "cell_type": "code",
            "source": [
                "# Reset password for a new one\r\n",
                "Set-DbaLogin -SqlInstance $dbatools1 -SqlCredential $cred -Login $newLoginUser -SecurePassword $newLoginCred.Password"
            ],
            "metadata": {
                "azdata_cell_guid": "67e43bb3-b57a-481b-acb1-dff115c1313d"
            },
            "outputs": [],
            "execution_count": null
        },
        {
            "cell_type": "markdown",
            "source": [
                "## Confirm the results\r\n",
                "Run the `01_CheckPermission.sql` under `Replicate permissions\\CheckPermissions` folder."
            ],
            "metadata": {
                "azdata_cell_guid": "dd47d3cb-398c-481f-b25b-d18d59cd8f2e"
            }
        }
    ]
}