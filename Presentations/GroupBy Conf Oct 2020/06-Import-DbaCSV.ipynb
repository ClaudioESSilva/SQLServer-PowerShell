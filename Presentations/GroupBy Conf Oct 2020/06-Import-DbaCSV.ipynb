{
    "metadata": {
        "kernelspec": {
            "name": "powershell",
            "display_name": "PowerShell"
        },
        "language_info": {
            "name": "powershell",
            "codemirror_mode": "shell",
            "mimetype": "text/x-sh",
            "file_extension": ".ps1"
        }
    },
    "nbformat_minor": 2,
    "nbformat": 4,
    "cells": [
        {
            "cell_type": "markdown",
            "source": [
                "```\n",
                "██████╗ ██████╗  █████╗ ████████╗ ██████╗  ██████╗ ██╗     ███████╗       \n",
                "██╔══██╗██╔══██╗██╔══██╗╚══██╔══╝██╔═══██╗██╔═══██╗██║     ██╔════╝       \n",
                "██║  ██║██████╔╝███████║   ██║   ██║   ██║██║   ██║██║     ███████╗       \n",
                "██║  ██║██╔══██╗██╔══██║   ██║   ██║   ██║██║   ██║██║     ╚════██║       \n",
                "██████╔╝██████╔╝██║  ██║   ██║   ╚██████╔╝╚██████╔╝███████╗███████║       \n",
                "╚═════╝ ╚═════╝ ╚═╝  ╚═╝   ╚═╝    ╚═════╝  ╚═════╝ ╚══════╝╚══════╝       \n",
                "\n",
                "██████╗ ███████╗ ██████╗██╗██████╗ ███████╗     ██╗ ██╗  ██████╗  ██████╗ \n",
                "██╔══██╗██╔════╝██╔════╝██║██╔══██╗██╔════╝    ████████╗██╔═████╗██╔════╝ \n",
                "██████╔╝█████╗  ██║     ██║██████╔╝█████╗      ╚██╔═██╔╝██║██╔██║███████╗ \n",
                "██╔══██╗██╔══╝  ██║     ██║██╔═══╝ ██╔══╝      ████████╗████╔╝██║██╔═══██╗\n",
                "██║  ██║███████╗╚██████╗██║██║     ███████╗    ╚██╔═██╔╝╚██████╔╝╚██████╔╝\n",
                "╚═╝  ╚═╝╚══════╝ ╚═════╝╚═╝╚═╝     ╚══════╝     ╚═╝ ╚═╝  ╚═════╝  ╚═════╝ \n",
                "\n",
                "```\n",
                "\n",
                "# Recipe #06 - Let's cook!\n",
                "\n",
                "## Desert:\n",
                "\n",
                "### \\- Import CSV to database\n",
                "\n",
                "* * *"
            ],
            "metadata": {
                "azdata_cell_guid": "ab254262-3a98-4abe-910f-c4f85f8e58f6"
            }
        },
        {
            "cell_type": "markdown",
            "source": [
                "Set variables"
            ],
            "metadata": {
                "azdata_cell_guid": "8a3fd25e-f3b7-4c56-9bf8-017e390f8421"
            }
        },
        {
            "cell_type": "code",
            "source": [
                "$dbatools1 = \"localhost,1433\"\r\n",
                "$secureString = ConvertTo-SecureString \"dbatools.IO\" -AsPlainText -Force\r\n",
                "$cred = New-Object -TypeName System.Management.Automation.PSCredential -ArgumentList \"sqladmin\", $secureString\r\n",
                "\r\n",
                "$database = \"tempdb\"\r\n",
                "$table = \"authors\"\r\n",
                "$csvPath = \"D:\\Presentations\\GroupBy Conf Oct 2020\\Import-DbaCSV\\authors.csv\"\r\n",
                "$delimitier = \"|\""
            ],
            "metadata": {
                "azdata_cell_guid": "0a83fd19-7dd9-463c-896b-fdefe484045a"
            },
            "outputs": [],
            "execution_count": null
        },
        {
            "cell_type": "markdown",
            "source": [
                "Import the csv file to a table into the database"
            ],
            "metadata": {
                "azdata_cell_guid": "db1b6457-7b99-4f38-93c3-d87f632e00f3"
            }
        },
        {
            "cell_type": "code",
            "source": [
                "$splatImportCSV = @{\r\n",
                "\tSqlInstance = $dbatools1\r\n",
                "\tSqlCredential = $cred\r\n",
                "\tDatabase = $database\r\n",
                "    Table = $table\r\n",
                "    Path = $csvPath\r\n",
                "    Delimiter = $delimitier\r\n",
                "    AutoCreateTable = $true\r\n",
                "}\r\n",
                "Import-DbaCsv @splatImportCSV"
            ],
            "metadata": {
                "azdata_cell_guid": "629be6c8-8518-465e-9162-eb1458f97bd2"
            },
            "outputs": [],
            "execution_count": null
        },
        {
            "cell_type": "markdown",
            "source": [
                "Check the data is there"
            ],
            "metadata": {
                "azdata_cell_guid": "f527aaf2-167f-488a-aa3a-372c1e8db9ac"
            }
        },
        {
            "cell_type": "code",
            "source": [
                "$splatInvokeQuery = @{\r\n",
                "\tSqlInstance = $dbatools1\r\n",
                "\tSqlCredential = $cred\r\n",
                "\tDatabase = $database\r\n",
                "\tQuery = \"SELECT * FROM $table\"\r\n",
                "}\r\n",
                "Invoke-DbaQuery @splatInvokeQuery | Format-Table"
            ],
            "metadata": {
                "azdata_cell_guid": "cf93549e-7203-40d1-8e3c-e427ced22c8b"
            },
            "outputs": [],
            "execution_count": null
        },
        {
            "cell_type": "markdown",
            "source": [
                "Not impressed? \n",
                "\n",
                "Let's check with a file that contains **200K** rows"
            ],
            "metadata": {
                "azdata_cell_guid": "7b7acc38-6047-454c-bd32-14cb0c29f41b"
            }
        },
        {
            "cell_type": "code",
            "source": [
                "$csvPathBigger = \"D:\\Presentations\\GroupBy Conf Oct 2020\\Import-DbaCSV\\authors_bigger.csv\"\r\n",
                "\r\n",
                "$splatImportCSV = @{\r\n",
                "\tSqlInstance = $dbatools1\r\n",
                "\tSqlCredential = $cred\r\n",
                "\tDatabase = $database\r\n",
                "    Table = \"$table-2\"\r\n",
                "    Path = $csvPathBigger\r\n",
                "    Delimiter = $delimitier\r\n",
                "    AutoCreateTable = $true\r\n",
                "}\r\n",
                "Import-DbaCsv @splatImportCSV"
            ],
            "metadata": {
                "azdata_cell_guid": "a8f64272-a6eb-44c9-b76f-63ad8929baf6"
            },
            "outputs": [],
            "execution_count": null
        },
        {
            "cell_type": "markdown",
            "source": [
                "> NOTE:  \r\n",
                "I suggest that you create the table with the datatypes that better match your data.  \r\n",
                "By default columns will be created as VARCHAR(MAX).\r\n",
                ""
            ],
            "metadata": {
                "azdata_cell_guid": "c724283b-d614-4493-8874-d7d61fc402ac"
            }
        }
    ]
}