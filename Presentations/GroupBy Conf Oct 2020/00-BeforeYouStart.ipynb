﻿{
    "metadata": {
        "kernelspec": {
            "name": "powershell",
            "display_name": "PowerShell"
        },
        "language_info": {
            "name": "powershell",
            "codemirror_mode": "shell",
            "mimetype": "text/x-sh",
            "file_extension": ".ps1"
        }
    },
    "nbformat_minor": 2,
    "nbformat": 4,
    "cells": [
        {
            "cell_type": "markdown",
            "source": [
                "## Install module\n",
                "\n",
                "If you don't have administrative rights you should use:\n",
                "\n",
                "`Install-Module -Name dbatools -Scope CurrentUser`"
            ],
            "metadata": {
                "azdata_cell_guid": "80531c90-282b-4bd3-ae72-487b2a68133b"
            }
        },
        {
            "cell_type": "code",
            "source": [
                "Install-Module -Name dbatools"
            ],
            "metadata": {
                "azdata_cell_guid": "7286708a-687f-4dd8-b2c2-a1f06977212f"
            },
            "outputs": [],
            "execution_count": null
        },
        {
            "cell_type": "markdown",
            "source": [
                "### If you don't have internet access on the server, download the module from a PC with internet acess"
            ],
            "metadata": {
                "azdata_cell_guid": "1d9f844e-a854-4177-a8f2-ee865e508f4d"
            }
        },
        {
            "cell_type": "markdown",
            "source": [
                "After that you need to copy to your server and put it on the modules' folder"
            ],
            "metadata": {
                "azdata_cell_guid": "3c1cf092-4e1e-41fe-bfbe-08514197b6f5"
            }
        },
        {
            "cell_type": "code",
            "source": [
                "Save-Module -Name dbatools -Path D:\\temp"
            ],
            "metadata": {
                "azdata_cell_guid": "80729cd9-e195-4b26-b38d-f61da8d9b1bf"
            },
            "outputs": [],
            "execution_count": null
        },
        {
            "cell_type": "markdown",
            "source": [
                "## Update module from gallery"
            ],
            "metadata": {
                "azdata_cell_guid": "93a3871c-e453-42dd-8a1d-457f93ed62b6"
            }
        },
        {
            "cell_type": "code",
            "source": [
                "Update-Module -Name dbatools"
            ],
            "metadata": {
                "azdata_cell_guid": "1ba6ae8d-bdc9-4789-a347-58b1b209dee2"
            },
            "outputs": [],
            "execution_count": null
        },
        {
            "cell_type": "markdown",
            "source": [
                "## Check if dbatools is loaded"
            ],
            "metadata": {
                "azdata_cell_guid": "03acec88-296e-4d82-8088-eecaa99cca6b"
            }
        },
        {
            "cell_type": "code",
            "source": [
                "Get-Module -Name dbatools"
            ],
            "metadata": {
                "azdata_cell_guid": "b2a457fd-d61b-4926-ab7f-90a08b4fe7a5"
            },
            "outputs": [],
            "execution_count": null
        },
        {
            "cell_type": "markdown",
            "source": [
                "## List all dbatools versions you have installed"
            ],
            "metadata": {
                "azdata_cell_guid": "eb3599f4-e4aa-4b8f-9f47-936adf228cad"
            }
        },
        {
            "cell_type": "code",
            "source": [
                "Get-Module -Name dbatools -ListAvailable"
            ],
            "metadata": {
                "azdata_cell_guid": "b6cb4464-35b7-4623-adf7-dfe30d985a6c"
            },
            "outputs": [],
            "execution_count": null
        },
        {
            "cell_type": "markdown",
            "source": [
                "## Explicitly import the module"
            ],
            "metadata": {
                "azdata_cell_guid": "693402e6-ebd8-4ea1-b228-f1bcf4067f5e"
            }
        },
        {
            "cell_type": "code",
            "source": [
                "Import-Module -Name dbatools"
            ],
            "metadata": {
                "azdata_cell_guid": "e32431b2-436b-4fe9-9aa7-2b264fdb4563"
            },
            "outputs": [],
            "execution_count": null
        },
        {
            "cell_type": "markdown",
            "source": [
                "## If you already have a version in memory, you need to remove it before import other version"
            ],
            "metadata": {
                "azdata_cell_guid": "3f942025-39bb-4a3d-a251-4c540d7350b9"
            }
        },
        {
            "cell_type": "code",
            "source": [
                "Remove-Module -Name dbatools"
            ],
            "metadata": {
                "azdata_cell_guid": "3ed9c707-2698-431b-9b4f-af53a8b8382a"
            },
            "outputs": [],
            "execution_count": null
        },
        {
            "cell_type": "markdown",
            "source": [
                "# Exploring the module"
            ],
            "metadata": {
                "azdata_cell_guid": "3194ba73-d87a-410c-aebd-92bf4e063295"
            }
        },
        {
            "cell_type": "markdown",
            "source": [
                "## Which commands do we have?"
            ],
            "metadata": {
                "azdata_cell_guid": "580410da-4736-41d3-80e3-977dc2f75156"
            }
        },
        {
            "cell_type": "code",
            "source": [
                "Get-Command -Module dbatools"
            ],
            "metadata": {
                "azdata_cell_guid": "6657fb8b-746e-4f38-ac09-3eb1d3febb7a"
            },
            "outputs": [],
            "execution_count": null
        },
        {
            "cell_type": "markdown",
            "source": [
                "## How many?"
            ],
            "metadata": {
                "azdata_cell_guid": "ac3d7d21-c248-407b-b9e6-e62d9c65de30"
            }
        },
        {
            "cell_type": "code",
            "source": [
                "(Get-Command -Module dbatools | Where-Object CommandType -eq 'Function').Count"
            ],
            "metadata": {
                "azdata_cell_guid": "71fdf8d3-5075-4228-a5c9-51ee0785ab9a"
            },
            "outputs": [],
            "execution_count": null
        },
        {
            "cell_type": "markdown",
            "source": [
                "## How do we find commands? (this method is handy when we don't have internet access to search on https://docs.dbatools.io)"
            ],
            "metadata": {
                "azdata_cell_guid": "9b430570-78b4-44cd-aae8-26cf895ab2fc"
            }
        },
        {
            "cell_type": "code",
            "source": [
                "Find-DbaCommand -Tag Backup"
            ],
            "metadata": {
                "azdata_cell_guid": "3428dbd4-c2c0-4cc0-9e2c-22eb0a69c7fd"
            },
            "outputs": [],
            "execution_count": null
        },
        {
            "cell_type": "code",
            "source": [
                "Find-DbaCommand -Author claudio"
            ],
            "metadata": {
                "azdata_cell_guid": "1273ba16-570b-4e38-8d47-f6df5c54258e"
            },
            "outputs": [],
            "execution_count": null
        },
        {
            "cell_type": "code",
            "source": [
                "Find-DbaCommand -Pattern Compression"
            ],
            "metadata": {
                "azdata_cell_guid": "0719693a-d3b4-4dee-9aff-2f17128f0736"
            },
            "outputs": [],
            "execution_count": null
        },
        {
            "cell_type": "markdown",
            "source": [
                "# Using commands"
            ],
            "metadata": {
                "azdata_cell_guid": "8754cd4c-817e-4f2c-bfc1-500b40ad4a24"
            }
        },
        {
            "cell_type": "markdown",
            "source": [
                "## ALWAYS (I'm serious), use Get-Help"
            ],
            "metadata": {
                "azdata_cell_guid": "7a82c40a-c324-4c00-a31b-aa4672adaddd"
            }
        },
        {
            "cell_type": "code",
            "source": [
                "Get-Help Test-DbaLinkedServerConnection -Full"
            ],
            "metadata": {
                "azdata_cell_guid": "02453d58-6214-49ba-b259-8df52e2cde94"
            },
            "outputs": [],
            "execution_count": null
        },
        {
            "cell_type": "markdown",
            "source": [
                "## -ShowWindow allows to use a GUI and has a search box"
            ],
            "metadata": {
                "azdata_cell_guid": "d76694eb-c008-4e3c-bb46-490df40f6108"
            }
        },
        {
            "cell_type": "code",
            "source": [
                "Get-Help Find-DbaStoredProcedure -ShowWindow"
            ],
            "metadata": {
                "azdata_cell_guid": "5c618ed6-506b-4abd-9360-dff7a2e4cd93"
            },
            "outputs": [],
            "execution_count": null
        },
        {
            "cell_type": "markdown",
            "source": [
                "* * * \n",
                "\n",
                "## Some times I will be using splatting \n",
                "Code will become shorter and easier to read"
            ],
            "metadata": {
                "azdata_cell_guid": "e7704ce3-bc25-4a56-9fba-5fc75f683984"
            }
        },
        {
            "cell_type": "markdown",
            "source": [
                "## Example without splatting:"
            ],
            "metadata": {
                "azdata_cell_guid": "cc17eb54-497c-4d46-b6e3-c6f74533b041"
            }
        },
        {
            "cell_type": "code",
            "source": [
                "$secureString = ConvertTo-SecureString \"dbatools.IO\" -AsPlainText -Force\r\n",
                "$cred = New-Object -TypeName System.Management.Automation.PSCredential -ArgumentList \"sqladmin\", $secureString\r\n",
                "\r\n",
                "Invoke-DbaQuery -SqlInstance \"localhost,1433\" -SqlCredential $cred -Query \"SELECT @@VERSION\""
            ],
            "metadata": {
                "azdata_cell_guid": "2dc01f04-4b0a-4b1d-8701-5cc960fd38de"
            },
            "outputs": [],
            "execution_count": null
        },
        {
            "cell_type": "markdown",
            "source": [
                "## with splatting"
            ],
            "metadata": {
                "azdata_cell_guid": "12379159-9a71-45ce-8e3b-83b599f0fd9d"
            }
        },
        {
            "cell_type": "code",
            "source": [
                "$secureString = ConvertTo-SecureString \"dbatools.IO\" -AsPlainText -Force\r\n",
                "$cred = New-Object -TypeName System.Management.Automation.PSCredential -ArgumentList \"sqladmin\", $secureString\r\n",
                "\r\n",
                "$splatInvokeQuery = @{\r\n",
                "    SqlInstance = \"localhost,1433\"\r\n",
                "    SqlCredential = $cred\r\n",
                "    Query = \"SELECT @@VERSION\"\r\n",
                "}\r\n",
                "Invoke-DbaQuery @splatInvokeQuery"
            ],
            "metadata": {
                "azdata_cell_guid": "91824a5e-c9fe-4e84-bb6b-299ae7455bbe"
            },
            "outputs": [],
            "execution_count": null
        }
    ]
}