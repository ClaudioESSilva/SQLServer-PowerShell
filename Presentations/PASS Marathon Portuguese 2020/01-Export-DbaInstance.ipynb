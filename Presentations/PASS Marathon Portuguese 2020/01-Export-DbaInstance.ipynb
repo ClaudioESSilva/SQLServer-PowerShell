{
    "metadata": {
        "kernelspec": {
            "name": "powershell",
            "display_name": "PowerShell"
        },
        "language_info": {
            "name": "powershell",
            "codemirror_mode": "shell",
            "mimetype": "text/x-sh",
            "file_extension": ".ps1"
        }
    },
    "nbformat_minor": 2,
    "nbformat": 4,
    "cells": [
        {
            "cell_type": "markdown",
            "source": [
                "<pre>\r\n",
                "██████╗ ██████╗  █████╗ ████████╗ ██████╗  ██████╗ ██╗     ███████╗      \r\n",
                "██╔══██╗██╔══██╗██╔══██╗╚══██╔══╝██╔═══██╗██╔═══██╗██║     ██╔════╝      \r\n",
                "██║  ██║██████╔╝███████║   ██║   ██║   ██║██║   ██║██║     ███████╗      \r\n",
                "██║  ██║██╔══██╗██╔══██║   ██║   ██║   ██║██║   ██║██║     ╚════██║      \r\n",
                "██████╔╝██████╔╝██║  ██║   ██║   ╚██████╔╝╚██████╔╝███████╗███████║      \r\n",
                "╚═════╝ ╚═════╝ ╚═╝  ╚═╝   ╚═╝    ╚═════╝  ╚═════╝ ╚══════╝╚══════╝      \r\n",
                "                                                                         \r\n",
                "██████╗ ███████╗ ██████╗██╗██████╗ ███████╗     ██╗ ██╗  ██████╗  ██╗\r\n",
                "██╔══██╗██╔════╝██╔════╝██║██╔══██╗██╔════╝    ████████╗██╔═████╗███║\r\n",
                "██████╔╝█████╗  ██║     ██║██████╔╝█████╗      ╚██╔═██╔╝██║██╔██║╚██║\r\n",
                "██╔══██╗██╔══╝  ██║     ██║██╔═══╝ ██╔══╝      ████████╗████╔╝██║ ██║\r\n",
                "██║  ██║███████╗╚██████╗██║██║     ███████╗    ╚██╔═██╔╝╚██████╔╝ ██║\r\n",
                "╚═╝  ╚═╝╚══════╝ ╚═════╝╚═╝╚═╝     ╚══════╝     ╚═╝ ╚═╝  ╚═════╝  ╚═╝   \r\n",
                "</pre>\r\n",
                "# Recipe #01 - Let's cook!\r\n",
                "\r\n",
                "## Appetizers\r\n",
                "\r\n",
                "### Idea: Export-DbaInstance (without pwds)  \r\n",
                "\r\n",
                "### Other/optional\r\n",
                "  1. replace suffix  \r\n",
                "  2. put on git\r\n",
                "\r\n",
                "NOTE: You can read more about this approach on my blog posts:\r\n",
                " - [Backup your SQL instances configurations to GIT with dbatools – Part 1](https://claudioessilva.eu/2020/06/02/backup-your-sql-instances-configurations-to-git-with-dbatools-part-1/)  \r\n",
                " - [Backup your SQL instances configurations to GIT with dbatools – Part 2 – Add parallelism](https://claudioessilva.eu/2020/06/04/backup-your-sql-instances-configurations-to-git-with-dbatools-part-2-add-parallelism/)\r\n",
                "\r\n",
                "<hr>"
            ],
            "metadata": {
                "azdata_cell_guid": "18765a75-af15-4b2d-9bd2-59b21ff5a91a"
            }
        },
        {
            "cell_type": "markdown",
            "source": [
                "### Set some variables"
            ],
            "metadata": {
                "azdata_cell_guid": "665ac6aa-bf1b-4a2f-85bb-8a958129dd45"
            }
        },
        {
            "cell_type": "code",
            "source": [
                "$path = \"D:\\Presentations\\PASS Marathon Portuguese 2020\\Export-DbaDatabase\\temp\"\r\n",
                "$dbatools1 = \"localhost,1433\"\r\n",
                "$secureString = ConvertTo-SecureString \"dbatools.IO\" -AsPlainText -Force\r\n",
                "$cred = New-Object -TypeName System.Management.Automation.PSCredential -ArgumentList \"sqladmin\", $secureString"
            ],
            "metadata": {
                "azdata_cell_guid": "fceb67de-60dd-4923-9fd1-d6019d860df0",
                "tags": []
            },
            "outputs": [],
            "execution_count": null
        },
        {
            "cell_type": "markdown",
            "source": [
                "Use `Export-DbaInstance`"
            ],
            "metadata": {
                "azdata_cell_guid": "d29f1a46-27de-4418-a69c-b5ddd4c1c4e0"
            }
        },
        {
            "cell_type": "code",
            "source": [
                "#Perform export (not currently supported on Core)\r\n",
                "#You may note that linked servers, credentials and central management server are excluded from the export. \r\n",
                "#This is because they aren’t currently supported for various Windows-centric reasons.\r\n",
                "\r\n",
                "$splatExportInstance = @{\r\n",
                "    SqlInstance = $dbatools1\r\n",
                "    SqlCredential = $cred\r\n",
                "    Path = $path\r\n",
                "    Exclude = @(\"LinkedServers\", \"Credentials\", \"CentralManagementServer\", \"BackupDevices\", \"Endpoints\", \"Databases\", \"ReplicationSettings\", \"PolicyManagement\")\r\n",
                "    ExcludePassword = $true\r\n",
                "}\r\n",
                "Export-DbaInstance @splatExportInstance"
            ],
            "metadata": {
                "azdata_cell_guid": "07aadc8e-fd3a-42d8-9496-71be2d7e67c6"
            },
            "outputs": [],
            "execution_count": null
        },
        {
            "cell_type": "markdown",
            "source": [
                "Let's see the output"
            ],
            "metadata": {
                "azdata_cell_guid": "723a3455-9a90-45d6-8b6b-e4e4fde7c35f"
            }
        },
        {
            "cell_type": "code",
            "source": [
                "# View output\r\n",
                "Invoke-Item $path"
            ],
            "metadata": {
                "azdata_cell_guid": "4adf5ca8-8906-4056-bb8a-78d6151bd963"
            },
            "outputs": [],
            "execution_count": null
        },
        {
            "cell_type": "markdown",
            "source": [
                "### If you want to versioning it, example put on GIT"
            ],
            "metadata": {
                "azdata_cell_guid": "81786c29-2a72-4c16-b8f1-f63135bc84c1"
            }
        },
        {
            "cell_type": "code",
            "source": [
                "# 1. Save the results to a temp folder\r\n",
                "# 2. Remove the suffix \"-datetime\" \r\n",
                "Get-ChildItem -Path $path | ForEach-Object {Rename-Item -Path $_.FullName -NewName $_.Name.Substring(0, $_.Name.LastIndexOf('-')) -Force}\r\n",
                "\r\n",
                "# 3. Copy and overwrite the files within your GIT folder. (This way you will keep the history)\r\n",
                "Copy-Item -Path \"$path\\*\" -Destination $(Split-Path -Path $path -Parent) -Recurse -Force"
            ],
            "metadata": {
                "azdata_cell_guid": "445407cb-435a-48a3-bd5d-948a546cfbfe"
            },
            "outputs": [],
            "execution_count": null
        },
        {
            "cell_type": "markdown",
            "source": [
                "### When working with GIT you can add the following example\r\n",
                " 1. `git commit -m \"Export-DbaInstance @ $((Get-Date).ToString(\"yyyyMMdd-HHmmss\"))\"`\r\n",
                " 2. `git push`"
            ],
            "metadata": {
                "azdata_cell_guid": "33a8a9ac-e214-4bfe-9d7d-db8786f43dc7"
            }
        }
    ]
}