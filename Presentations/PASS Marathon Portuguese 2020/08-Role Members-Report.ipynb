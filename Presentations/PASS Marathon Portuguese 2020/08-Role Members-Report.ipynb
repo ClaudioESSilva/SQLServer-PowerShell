{
    "metadata": {
        "kernelspec": {
            "name": "powershell",
            "display_name": "PowerShell"
        },
        "language_info": {
            "name": "powershell",
            "codemirror_mode": "shell",
            "mimetype": "text/x-sh",
            "file_extension": ".ps1"
        }
    },
    "nbformat_minor": 2,
    "nbformat": 4,
    "cells": [
        {
            "cell_type": "markdown",
            "source": [
                "<pre>\r\n",
                "██████╗ ██████╗  █████╗ ████████╗ ██████╗  ██████╗ ██╗     ███████╗      \r\n",
                "██╔══██╗██╔══██╗██╔══██╗╚══██╔══╝██╔═══██╗██╔═══██╗██║     ██╔════╝      \r\n",
                "██║  ██║██████╔╝███████║   ██║   ██║   ██║██║   ██║██║     ███████╗      \r\n",
                "██║  ██║██╔══██╗██╔══██║   ██║   ██║   ██║██║   ██║██║     ╚════██║      \r\n",
                "██████╔╝██████╔╝██║  ██║   ██║   ╚██████╔╝╚██████╔╝███████╗███████║      \r\n",
                "╚═════╝ ╚═════╝ ╚═╝  ╚═╝   ╚═╝    ╚═════╝  ╚═════╝ ╚══════╝╚══════╝      \r\n",
                "                                                                         \r\n",
                "██████╗ ███████╗ ██████╗██╗██████╗ ███████╗     ██╗ ██╗  ██████╗  █████╗ \r\n",
                "██╔══██╗██╔════╝██╔════╝██║██╔══██╗██╔════╝    ████████╗██╔═████╗██╔══██╗\r\n",
                "██████╔╝█████╗  ██║     ██║██████╔╝█████╗      ╚██╔═██╔╝██║██╔██║╚█████╔╝\r\n",
                "██╔══██╗██╔══╝  ██║     ██║██╔═══╝ ██╔══╝      ████████╗████╔╝██║██╔══██╗\r\n",
                "██║  ██║███████╗╚██████╗██║██║     ███████╗    ╚██╔═██╔╝╚██████╔╝╚█████╔╝\r\n",
                "╚═╝  ╚═╝╚══════╝ ╚═════╝╚═╝╚═╝     ╚══════╝     ╚═╝ ╚═╝  ╚═════╝  ╚════╝ \r\n",
                "                                                                         \r\n",
                "</pre>\r\n",
                "# Recipe #08 - Let's cook!\r\n",
                "## Another desert: \r\n",
                "### - Generating reports to Excel\r\n",
                "\r\n",
                "> This example needs `ImportExcel` PowerShell module.\r\n",
                "\r\n",
                "NOTE: You can read more on my SQL Server Central article: [Generate Role Member Reports using dbatools and the ImportExcel PowerShell modules](https://www.sqlservercentral.com/articles/generate-role-member-reports-using-dbatools-and-the-importexcel-powershell-modules)\r\n",
                "<hr>"
            ],
            "metadata": {
                "azdata_cell_guid": "903ab5ed-e775-4149-8041-0fc28a542608"
            }
        },
        {
            "cell_type": "markdown",
            "source": [
                "Set variables"
            ],
            "metadata": {
                "azdata_cell_guid": "f6947be1-a429-4a6d-b3d9-52a2be0010af"
            }
        },
        {
            "cell_type": "code",
            "source": [
                "$SQLInstance = \"localhost,1433\"\r\n",
                "$secureString = ConvertTo-SecureString \"dbatools.IO\" -AsPlainText -Force\r\n",
                "$cred = New-Object -TypeName System.Management.Automation.PSCredential -ArgumentList \"sqladmin\", $secureString\r\n",
                "$excludeDatabase = \"myDB\", \"myDB2\"\r\n",
                "$excludeLogin = \"renamedSA\"\r\n",
                "$excludeLoginFilter = \"NT *\", \"##*\"\r\n",
                " \r\n",
                "# To be used on Export-Excel command\r\n",
                "$excelFilepath = \"D:\\Presentations\\PASS Marathon Portuguese 2020\\Excel-Report\\$($SQLInstance -replace ',', '')_$((Get-Date).ToFileTime()).xlsx\"\r\n",
                "$freezeTopRow = $true\r\n",
                "$tableStyle = \"Medium6\"\r\n",
                "$autoSize = $true"
            ],
            "metadata": {
                "azdata_cell_guid": "73292207-ee57-4ad3-b380-0d7ccfb3c9e7"
            },
            "outputs": [],
            "execution_count": null
        },
        {
            "cell_type": "markdown",
            "source": [
                "Getting data "
            ],
            "metadata": {
                "azdata_cell_guid": "bf522f38-7e02-4cd8-938b-7b17a8869778"
            }
        },
        {
            "cell_type": "code",
            "source": [
                "#Region Get data\r\n",
                "# Get all instance logins\r\n",
                "$Logins = Get-DbaLogin -SqlInstance $SQLInstance -SqlCredential $cred -ExcludeLogin $excludeLogin -ExcludeFilter $excludeLoginFilter\r\n",
                " \r\n",
                "# Get all server roles and its members\r\n",
                "$instanceRoleMembers = Get-DbaServerRoleMember -SqlInstance $SQLInstance -SqlCredential $cred -Login $Logins.Name\r\n",
                " \r\n",
                "# Get all database roles and its members\r\n",
                "$dbRoleMembers = Get-DbaDbRoleMember -SqlInstance $SQLInstance -SqlCredential $cred -ExcludeDatabase $excludeDatabase | Where-Object UserName -in $logins.Name\r\n",
                "#EndRegion"
            ],
            "metadata": {
                "azdata_cell_guid": "b28074df-dbdf-487f-997b-5127ec598604"
            },
            "outputs": [],
            "execution_count": null
        },
        {
            "cell_type": "markdown",
            "source": [
                "\r\n",
                "### Removing output file"
            ],
            "metadata": {
                "azdata_cell_guid": "fdd33afc-814d-4339-b4cf-72ec2c889d3c"
            }
        },
        {
            "cell_type": "code",
            "source": [
                "# Remove the report file if exists\r\n",
                "Remove-Item -Path $excelFilepath -Force -ErrorAction SilentlyContinue"
            ],
            "metadata": {
                "azdata_cell_guid": "93041a8e-f2db-4d88-98ba-73c922ca7366"
            },
            "outputs": [],
            "execution_count": null
        },
        {
            "cell_type": "markdown",
            "source": [
                "Export result to excel. It uses ImportExcel PowerShell Module from Doug Finke"
            ],
            "metadata": {
                "azdata_cell_guid": "dd9e6a2c-84f4-4e6d-8f8f-5134b8d53f1e"
            }
        },
        {
            "cell_type": "code",
            "source": [
                "#Region Export Data to Excel\r\n",
                "# Export data to Excel\r\n",
                "## Export Logins\r\n",
                "$excelLoginSplatting = @{\r\n",
                "    Path = $excelFilepath \r\n",
                "    WorkSheetname = \"Logins\"\r\n",
                "    TableName = \"Logins\"\r\n",
                "    FreezeTopRow = $freezeTopRow\r\n",
                "    TableStyle = $tableStyle\r\n",
                "    AutoSize = $autoSize\r\n",
                "}\r\n",
                "$Logins | Select-Object \"ComputerName\", \"InstanceName\", \"SqlInstance\", \"Name\", \"LoginType\", \"CreateDate\", \"LastLogin\", \"HasAccess\", \"IsLocked\", \"IsDisabled\" | Export-Excel @excelLoginSplatting\r\n",
                " \r\n",
                "## Export instance roles and its members\r\n",
                "$excelinstanceRoleMembersOutput = @{\r\n",
                "    Path = $excelFilepath \r\n",
                "    WorkSheetname = \"InstanceLevel\"\r\n",
                "    TableName = \"InstanceLevel\"\r\n",
                "    TableStyle = $tableStyle\r\n",
                "    FreezeTopRow = $freezeTopRow\r\n",
                "    AutoSize = $autoSize\r\n",
                "}\r\n",
                "$instanceRoleMembers | Export-Excel @excelinstanceRoleMembersOutput\r\n",
                " \r\n",
                "## Export database roles and its members\r\n",
                "$exceldbRoleMembersOutput = @{\r\n",
                "    Path = $excelFilepath \r\n",
                "    WorkSheetname = \"DatabaseLevel\"\r\n",
                "    TableName = \"DatabaseLevel\"\r\n",
                "    TableStyle = $tableStyle\r\n",
                "    FreezeTopRow = $freezeTopRow\r\n",
                "    AutoSize = $autoSize\r\n",
                "}\r\n",
                "$dbRoleMembers | Export-Excel @exceldbRoleMembersOutput -Show\r\n",
                "#EndRegion"
            ],
            "metadata": {
                "azdata_cell_guid": "acdd2ec9-06c9-411b-9956-dad56d5bef45"
            },
            "outputs": [],
            "execution_count": null
        }
    ]
}