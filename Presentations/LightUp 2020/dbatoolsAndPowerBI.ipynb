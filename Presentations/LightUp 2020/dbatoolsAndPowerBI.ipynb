{
    "metadata": {
        "kernelspec": {
            "name": "powershell",
            "display_name": "PowerShell"
        },
        "language_info": {
            "name": "powershell",
            "codemirror_mode": "shell",
            "mimetype": "text/x-sh",
            "file_extension": ".ps1"
        }
    },
    "nbformat_minor": 2,
    "nbformat": 4,
    "cells": [
        {
            "cell_type": "markdown",
            "source": [
                "# Getting started <img width=\"223\" height=\"64\" src=\"https://dbatools.io/wp-content/uploads/2016/05/dbatools-logo-1.png\" class=\"custom-logo\" alt=\"dbatools\" itemprop=\"logo\">\n",
                "\n",
                "## Let's se the tables structure\n",
                "\n",
                "> Note: Confirm that you have `SQL` Kernel selected"
            ],
            "metadata": {
                "azdata_cell_guid": "e028c8b8-40af-4c3f-a75d-fa4b18b49058"
            }
        },
        {
            "cell_type": "code",
            "source": [
                "SELECT TABLE_SCHEMA, TABLE_NAME, COLUMN_NAME, DATA_TYPE, CHARACTER_MAXIMUM_LENGTH\r\n",
                "  FROM INFORMATION_SCHEMA.COLUMNS"
            ],
            "metadata": {
                "azdata_cell_guid": "c74e8f2a-ba9f-4847-9e3e-a5973514c4db",
                "tags": []
            },
            "outputs": [],
            "execution_count": null
        },
        {
            "cell_type": "markdown",
            "source": [
                "### View `Instances` table"
            ],
            "metadata": {
                "azdata_cell_guid": "b9dbf6af-4eb3-4b6e-90c0-0eaebc523c64"
            }
        },
        {
            "cell_type": "code",
            "source": [
                "SELECT *\r\n",
                "FROM dbo.Instances"
            ],
            "metadata": {
                "azdata_cell_guid": "2c8227aa-dc18-4ad4-8e28-d94a86bed4de",
                "tags": []
            },
            "outputs": [],
            "execution_count": null
        },
        {
            "cell_type": "markdown",
            "source": [
                "# Let's see how the job looks like"
            ],
            "metadata": {
                "azdata_cell_guid": "67288541-817b-4eb1-9a9e-8ca3d0e98608"
            }
        },
        {
            "cell_type": "code",
            "source": [
                "SELECT j.name, js.step_name, js.subsystem, js.command\r\n",
                "FROM msdb.dbo.sysjobsteps AS js\r\n",
                "INNER JOIN msdb.dbo.sysjobs AS j\r\n",
                "   ON js.job_id = j.job_id\r\n",
                "WHERE j.name LIKE '%dbatools%'"
            ],
            "metadata": {
                "azdata_cell_guid": "c758cd71-7450-4aa8-b75d-d5c74b5ecdaa",
                "tags": []
            },
            "outputs": [],
            "execution_count": null
        },
        {
            "cell_type": "markdown",
            "source": [
                "<hr>"
            ],
            "metadata": {
                "azdata_cell_guid": "ab7f9e88-b97e-4c4b-a1a4-2a931d056b9e"
            }
        },
        {
            "cell_type": "markdown",
            "source": [
                "# How it works?\r\n",
                "Create empty dabase from `.bak` template.\r\n",
                "\r\n",
                "> NOTE: Change the Kernel to `PowerShell` before running the following commands"
            ],
            "metadata": {
                "azdata_cell_guid": "33b6115a-a168-4eab-8c15-81d0e2d22cba"
            }
        },
        {
            "cell_type": "code",
            "source": [
                "$restoreSplat = @{\r\n",
                "    SqlInstance = \".\"\r\n",
                "    Path = \"D:\\Presentations\\LightUp 2020\\Demo\\dbatools_demo_201911221208.bak\"\r\n",
                "    DatabaseName = \"dbatools2\"\r\n",
                "    ReplaceDbNameInFile = $true\r\n",
                "    WithReplace = $true\r\n",
                "}\r\n",
                "Restore-DbaDatabase @restoreSplat "
            ],
            "metadata": {
                "azdata_cell_guid": "8f5f30fb-f7c4-4d5d-88ec-3c0d4e4097e9",
                "tags": []
            },
            "outputs": [],
            "execution_count": null
        },
        {
            "cell_type": "markdown",
            "source": [
                "\r\n",
                "Confirm that database `dbatools2` exists"
            ],
            "metadata": {
                "azdata_cell_guid": "46a71606-8b73-4b8c-af5e-88d8b17100f0"
            }
        },
        {
            "cell_type": "code",
            "source": [
                "Get-DbaDatabase -SqlInstance . -Database dbatools2"
            ],
            "metadata": {
                "azdata_cell_guid": "d51d4ed5-9290-40a0-b7cb-ce3fa5bcae4d"
            },
            "outputs": [],
            "execution_count": null
        },
        {
            "cell_type": "markdown",
            "source": [
                "Insert one instance into the table to run the job"
            ],
            "metadata": {
                "azdata_cell_guid": "02800fae-315f-4884-8ee8-048a76c09990"
            }
        },
        {
            "cell_type": "code",
            "source": [
                "Invoke-DbaQuery -SqlInstance . -Database \"dbatools2\" -Query \"INSERT INTO [dbo].[Instances]([HOSTNAME],[PORT],[ENVIRONMENT],[DOMAIN],[INSTANCE])\r\n",
                "VALUES('localhost',1433,'DEVELOPMENT','my.domain.com','MSSQLSERVER')\r\n",
                "\r\n",
                "SELECT * FROM dbo.Instances\""
            ],
            "metadata": {
                "azdata_cell_guid": "f299d480-8b42-4406-9475-0b26eb7e4fe2"
            },
            "outputs": [],
            "execution_count": null
        },
        {
            "cell_type": "markdown",
            "source": [
                "Now, let's invoke the job to collect the data"
            ],
            "metadata": {
                "azdata_cell_guid": "9e8b32ee-2b2b-48be-a27f-09b442e3b1a5"
            }
        },
        {
            "cell_type": "code",
            "source": [
                "$dbatoolsCollectInfo = Get-DbaAgentJob -SqlInstance . -Job \"DBATools_CollectInfo\"\r\n",
                "$dbatoolsCollectInfo.Start()"
            ],
            "metadata": {
                "azdata_cell_guid": "5a3f1553-90e1-42ca-9f88-9dc231839037"
            },
            "outputs": [],
            "execution_count": null
        },
        {
            "cell_type": "markdown",
            "source": [
                "Confirm that the job is running"
            ],
            "metadata": {
                "azdata_cell_guid": "13502471-1c17-4607-afcc-8e5524afaf00"
            }
        },
        {
            "cell_type": "code",
            "source": [
                "Get-DbaAgentJob -SqlInstance . -Job \"DBATools_CollectInfo\""
            ],
            "metadata": {
                "azdata_cell_guid": "b51136cd-ec2c-4e03-8830-e892d6865c53"
            },
            "outputs": [],
            "execution_count": null
        },
        {
            "cell_type": "markdown",
            "source": [
                "And now we can confirm if we have data on the tables"
            ],
            "metadata": {
                "azdata_cell_guid": "7752f4ba-99bf-4d08-9128-d4a4a714ec31"
            }
        },
        {
            "cell_type": "code",
            "source": [
                "Invoke-DbaQuery -SqlInstance . -Database \"dbatools2\" -Query \"SELECT * FROM dbo.[Database]\" | Select-Object InstanceName, Name, SizeMB, CollectionTime | Format-Table -AutoSize"
            ],
            "metadata": {
                "azdata_cell_guid": "cde6a4c2-b7cd-49cd-87c5-f96b6c55f051"
            },
            "outputs": [],
            "execution_count": null
        }
    ]
}